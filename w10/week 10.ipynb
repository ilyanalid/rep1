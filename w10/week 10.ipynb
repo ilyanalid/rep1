{
 "cells": [
  {
   "cell_type": "markdown",
   "metadata": {},
   "source": [
    "## Threading, GIL"
   ]
  },
  {
   "cell_type": "markdown",
   "metadata": {},
   "source": [
    "**1.** (2) Опишите в файле `threading_explained.md`, в чем разница между потоком и процессом."
   ]
  },
  {
   "cell_type": "markdown",
   "metadata": {},
   "source": [
    "**Процесс** - исполняемый экземпляр какой-либо программы. Каждый процесс состоит из следующих элементов:\n",
    "\n",
    "- образ машинного кода;\n",
    "- область памяти, в которую включается исполняемый код, данные процесса (входные и выходные данные), стек вызовов и куча (для хранения динамически создаваемых данных);\n",
    "- дескрипторы операционной системы (например, файловые дескрипторы);\n",
    "- состояние процесса.\n",
    "\n",
    "В целях стабильности и безопасности, в современных операционных системы каждый процесс имеет прямой доступ только к своим собственным ресурсам.\n",
    "\n",
    "Доступ к ресурсам другого процесса возможен через *межпроцессорное взаимодействие* (например, посредством файлов, при помощи именованных и неименованных каналов и другие).\n",
    "\n",
    "Сам *процесс* может быть разделен на так называемые *потоки*.\n",
    "\n",
    "**Поток** (поток выполнения, `thread`) - наименьшая единица обработки, исполнение которой может быть назначено ядром операционной системы. \n",
    "\n",
    "В отличие от нескольких процессов, потоки существуют внутри одного процесса и имеют доступ к ресурсам этого процесса. Каждый поток обладет собственным набором регистров и собственным стеком вызова, но доступ к ним имеют и другие потоки."
   ]
  },
  {
   "cell_type": "markdown",
   "metadata": {},
   "source": [
    "**2.** (2) Опишите в файле `gil.md`, что такое GIL и почему `multiprocessing` свободен от него."
   ]
  },
  {
   "cell_type": "markdown",
   "metadata": {},
   "source": [
    "**Global Interpreter Lock(GIL)** — это своеобразная блокировка, позволяющая только одному потоку управлять интерпретатором Python. Это означает, что в любой момент времени будет выполняться только один конкретный поток.\n",
    "\n",
    "Чтобы обойти это «ограничение», мы используем модуль `multiprocessing`. Вместо использования потоков, `multiprocessing` использует, как бы вам это сказать… несколько процессов. Каждый процесс получает свой личный интерпретатор и пространство в памяти, **поэтому GIL не будет вас ограничивать**. По сути, каждый процесс будет использовать свое ядро процессора и работать со своим уникальным числом, и выполняться это будет одновременно с работой других процессов. \n",
    "\n",
    "*Как мило с их стороны!*"
   ]
  },
  {
   "cell_type": "markdown",
   "metadata": {},
   "source": [
    "**3.** (2) Опишите в файле `problems.md`, что такое \"Deadlock\" и что такое \"Race condition\"."
   ]
  },
  {
   "cell_type": "markdown",
   "metadata": {},
   "source": [
    "Взаимные блокировки (тупиковые ситуации, `deadlock`), одна из самых распространённых проблем одновременности, некая особая ситуация в параллельном программировании, при которой никакого развития не может быть получено, а сами программы остаются заблокированными в своих текущих состояниях. В большинстве случаев это явление вызывается отсутствием координации между различными объектами блокировки (для целей синхронизации потоков) или её неправильным осуществлением.\n",
    "\n",
    "Условия гонки (`Race Conditions`) — ошибка проектирования многопоточной системы или приложения, при которой работа системы или приложения зависит от того, в каком порядке выполняются части кода. Условия гонки могут возникать, когда два или более потока обращаются к общему фрагменту данных или ресурсу."
   ]
  },
  {
   "cell_type": "markdown",
   "metadata": {},
   "source": [
    "**4.** (3) Напишите программу, которая будет по заданному списку хостов пинговать их (т.е. вызывать `ping`, подробнее). Используйте `threading`."
   ]
  },
  {
   "cell_type": "code",
   "execution_count": 1,
   "metadata": {},
   "outputs": [
    {
     "name": "stdout",
     "output_type": "stream",
     "text": [
      "{'alive': [], 'dead': ['github.com', 'google.com', 'apple.com', 'youtube.com']}\n"
     ]
    }
   ],
   "source": [
    "import subprocess\n",
    "import threading\n",
    "\n",
    "class Pinger():\n",
    "    status = {'alive': [], 'dead': []} \n",
    "    hosts = []\n",
    "    thread_count = 4\n",
    "    lock = threading.Lock()\n",
    "\n",
    "    \n",
    "    def ping(self, ip):\n",
    "        ret = subprocess.call(['ping', '-c', '1', '-W', '1', ip],\n",
    "                              stdout=open('/dev/null', 'w'), stderr=open('/dev/null', 'w'))\n",
    "\n",
    "        return ret == 0 \n",
    "    \n",
    "    \n",
    "    def pop_queue(self):\n",
    "        ip = None\n",
    "        self.lock.acquire() \n",
    "        if self.hosts:\n",
    "            ip = self.hosts.pop()\n",
    "        self.lock.release()\n",
    "        return ip\n",
    "\n",
    "    \n",
    "    def dequeue(self):\n",
    "        while True:\n",
    "            ip = self.pop_queue()\n",
    "            if not ip:\n",
    "                return None\n",
    "            if self.ping(ip):\n",
    "                result = 'alive' \n",
    "            else:\n",
    "                result = 'dead'\n",
    "            self.status[result].append(ip)\n",
    "\n",
    "            \n",
    "    def start(self):\n",
    "        threads = []\n",
    "        for i in range(self.thread_count):\n",
    "            t = threading.Thread(target=self.dequeue)\n",
    "            t.start()\n",
    "            threads.append(t)\n",
    "        [ t.join() for t in threads ]\n",
    "        return self.status\n",
    "\n",
    "    \n",
    "if __name__ == '__main__':\n",
    "    ping = Pinger()\n",
    "    ping.thread_count = 8\n",
    "    ping.hosts = [\n",
    "        'apple.com', \n",
    "        'youtube.com', \n",
    "        'google.com', \n",
    "        'github.com'\n",
    "        ]\n",
    "\n",
    "    print(ping.start())"
   ]
  },
  {
   "cell_type": "markdown",
   "metadata": {},
   "source": [
    "**5.** (3) Напишите программу, которая будет вычислять скалярное произведение двух векторов с использованием потоков."
   ]
  },
  {
   "cell_type": "markdown",
   "metadata": {},
   "source": [
    "**6.** (2) Возьмите какой-нибудь большой вектор (так, чтобы программа из п.5 работала от 1 до 20 секунд при одном потоке). Замерьте время выполнения и постройте график (вы можете провести усреднение по 3 запускам, чтобы убрать шумы). Помогли ли потоки ускорить программу?"
   ]
  },
  {
   "cell_type": "code",
   "execution_count": 19,
   "metadata": {},
   "outputs": [
    {
     "name": "stdout",
     "output_type": "stream",
     "text": [
      "dot finish\n",
      "dot finish\n",
      "dot finish\n",
      "dot finish\n",
      "dot finish\n"
     ]
    },
    {
     "data": {
      "image/png": "[encoded data removed]",
      "text/plain": [
       "<Figure size 432x288 with 1 Axes>"
      ]
     },
     "metadata": {
      "needs_background": "light"
     },
     "output_type": "display_data"
    }
   ],
   "source": [
    "%run 6.py"
   ]
  },
  {
   "cell_type": "markdown",
   "metadata": {},
   "source": [
    "## Multiprocessing"
   ]
  },
  {
   "cell_type": "markdown",
   "metadata": {},
   "source": [
    "**7.** (2) Опишите в файле `multiprocessing_explained.md`, как работает модуль `multiprocessing` и как он делит память между процессами."
   ]
  },
  {
   "cell_type": "markdown",
   "metadata": {},
   "source": [
    "Библиотека `multiprocessing` позволяет организовать параллелизм вычислений за счет создания подпроцессов. Т.к. каждый процесс выполняется независимо от других, этот *метод параллелизма позволяет избежать проблем с GIL*. Предоставляемый библиотекой API схож с тем, что есть в `threading`, хотя есть уникальные вещи. \n",
    "\n",
    "Создание процесса происходит поутем создания объекта класса `Process`. Аргументы конструктора аналогичны тем, что есть в конструкторе `Thread`. В том числе аргумент `daemon` позволяет создавать служебные процессы. Служебные процессы завершаются вместе с родительским процессом и не могут порождать свои подпроцессы."
   ]
  },
  {
   "cell_type": "markdown",
   "metadata": {},
   "source": [
    "**8.** (2) Опишите в файле `synchronization_primitives.md` , что такое примитивы синхронизации. Там же опишите, что такое мьютекс (Mutex) и как работает `multiprocessing.Lock()`"
   ]
  },
  {
   "cell_type": "markdown",
   "metadata": {},
   "source": [
    "*Как правильно приказать компьютеру синхронизировать потоки?* \n",
    "\n",
    "Для этого используются **примитивы синхронизации** — простые программные механизмы, обеспечивающие гармоничное взаимодействие потоков друг с другом. Они обычно строятся с использованием механизмов более низкого уровня (например, атомарных операций, барьеров памяти, спин-блоков, переключателей контекста и т. д.).\n",
    "\n",
    "Mutex, событие, условные переменные и семафоры-все это примитивы синхронизации. Так же как и общие и эксклюзивные замки.\n",
    "\n",
    "Условно классический **мьютекс(Mutex)** можно представить в виде переменной, которая может находиться в двух состояниях: в заблокированном и в незаблокированном. При входе в свою критическую секцию поток вызывает функцию перевода мьютекса в заблокированное состояние, при этом поток блокируется до освобождения мьютекса, если другой поток уже владеет им. При выходе из критической секции поток вызывает функцию перевода мьютекса в незаблокированное состояние. В случае наличия нескольких заблокированных по мьютексу потоков во время разблокировки мьютекса выбирается произвольный из них.\n",
    "\n",
    "одновременный доступ к общим данным должен быть защищен блокировкой, чтобы избежать проблем с синхронизацией."
   ]
  },
  {
   "cell_type": "markdown",
   "metadata": {},
   "source": [
    "**9.** (3) Перепишите программу из п.5 с использованием `multiprocessing` и постройте такие же графики, как в п.6. Ускорилась ли теперь программа? *На данном этапе необязательно сохранять результат подсчета и выдавать его. Главное, чтобы были расчеты.*"
   ]
  },
  {
   "cell_type": "markdown",
   "metadata": {},
   "source": [
    "**10.** (3) Организуйте передачу результатов подсчета между процессорами с помощью `Queue` и с помощью `Pipe`. Добейтесь того, чтобы на выходе Ваша программа могла вывести скалярное произведение."
   ]
  },
  {
   "cell_type": "code",
   "execution_count": 24,
   "metadata": {},
   "outputs": [
    {
     "data": {
      "image/png": "[encoded data removed]",
      "text/plain": [
       "<Figure size 432x288 with 1 Axes>"
      ]
     },
     "metadata": {
      "needs_background": "light"
     },
     "output_type": "display_data"
    }
   ],
   "source": [
    "%run 10.py"
   ]
  },
  {
   "cell_type": "markdown",
   "metadata": {},
   "source": [
    "## Pool"
   ]
  },
  {
   "cell_type": "markdown",
   "metadata": {},
   "source": [
    "**11.** (3) Перепишите скалярное произведение векторов через `Pool` (подсказка: используйте `pool.map` и передавайте ему `zip` из двух векторов)."
   ]
  }
 ],
 "metadata": {
  "kernelspec": {
   "display_name": "Python 3",
   "language": "python",
   "name": "python3"
  },
  "language_info": {
   "codemirror_mode": {
    "name": "ipython",
    "version": 3
   },
   "file_extension": ".py",
   "mimetype": "text/x-python",
   "name": "python",
   "nbconvert_exporter": "python",
   "pygments_lexer": "ipython3",
   "version": "3.8.3"
  }
 },
 "nbformat": 4,
 "nbformat_minor": 4
}
