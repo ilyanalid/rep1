{
 "cells": [
  {
   "cell_type": "markdown",
   "metadata": {},
   "source": [
    "## Абстрактные классы, модули"
   ]
  },
  {
   "cell_type": "markdown",
   "metadata": {},
   "source": [
    "**1.** (1) Опишите в файле `abstract.md`, какой смысл от абстактного класса, если он не реализует никаких методов."
   ]
  },
  {
   "cell_type": "markdown",
   "metadata": {},
   "source": [
    "* **Абстрактным** называется класс, который содержит один и более абстрактных методов. \n",
    "* **Абстрактным** называется объявленный, но не реализованный метод. \n",
    "* **Абстрактные классы** не могут быть *инстанциированы*, от них нужно\n",
    "  * унаследовать \n",
    "  * реализовать все их абстрактные методы\n",
    "  * и только тогда можно создать экземпляр такого класса.\n",
    "* **Абстрактный метод** не реализуется для класса, в котором описан, однако должен быть реализован для его ***неабстрактных потомков***."
   ]
  },
  {
   "cell_type": "markdown",
   "metadata": {},
   "source": [
    "**2.** (3) Возьмите класс `MyMath` из недели 6 и поместите его в файл `math.py`. То же самое проделайте с классом `MyComplexMath` из недели 6 (т.е. переместите класс в `math.py`). Теперь возьмите `Vector` из недели 6 и поместите его в файл `linear_algebra.py`(**`vector.py`**). После этой закиньте файлы `math.py` и `linear_algebra.py`(**`vector.py`**) в папку `my_mathematics` и создайте в папке `my_mathematics` пустой файл `__init__.py`. Перейдите в родительскую папку для `my_mathematics` и откройте интерактивный интерпретатор питона. У вас должны работать следующие команды:\n",
    "\n",
    "```python\n",
    ">>> from my_mathematics.math import MyMath, MyComplexMath\n",
    ">>> from my_mathematics.vector import Vector\n",
    "```\n",
    "\n",
    "Если это так, то поздравляю вас: вы только что собрали куски кода в единый модуль! Такая структура вам пригодится в следующем задании."
   ]
  },
  {
   "cell_type": "code",
   "execution_count": 2,
   "metadata": {},
   "outputs": [],
   "source": [
    "from my_mathematics.math import MyMath, MyComplexMath\n",
    "from my_mathematics.vector import Vector"
   ]
  },
  {
   "cell_type": "markdown",
   "metadata": {},
   "source": [
    "## Сборка .whl-пакетов\n",
    "\n",
    "*Здесь все пункты следует выполнять один за другим.*"
   ]
  },
  {
   "cell_type": "markdown",
   "metadata": {},
   "source": [
    "**3.**(2) Создайте в родительской папке для `my_mathematics` из п.2 файл `setup.py`. После этого идем на офф.сайт и ищем код, который нужно вставить в `setup.py`. Подставляем, меняем имена на свои."
   ]
  },
  {
   "cell_type": "markdown",
   "metadata": {},
   "source": [
    "**4.** (1) Создаем виртуальное окружение, устанавливаем в него пакеты `setuptools` и `wheel`. Добавляем эти пакеты в файл `requirements.txt` в корне проекта."
   ]
  },
  {
   "cell_type": "markdown",
   "metadata": {},
   "source": [
    "**5.** (1) В виртуальном окружении выполняем `python setup.py bdist_wheel`. Результатов этого должен быть файл с форматом `.whl` в папке `dist/` в папке 7-ой недели."
   ]
  },
  {
   "cell_type": "markdown",
   "metadata": {},
   "source": [
    "**6.** (1) Выходим из виртуального окружения, идем куда-нибудь в далекую от проекта папку. Создаем в ней виртуальное окружение, заходим в него (`source venv/bin/activate`) и в нем устанавливаем наш пакет: `pip install -U <путь_к_пакету_в_папке_dist>`). Заходим в `Python` и радуемся нашему модулю:\n",
    "\n",
    "$ python\n",
    "\n",
    "```python\n",
    ">>> from my_mathematics.math import MyMath, MyComplexMath\n",
    ">>> from my_mathematics.vector import Vector\n",
    ">>> MyMath.sin(2)\n",
    "0.9092974268256817\n",
    "```"
   ]
  },
  {
   "cell_type": "code",
   "execution_count": 2,
   "metadata": {},
   "outputs": [
    {
     "data": {
      "text/plain": [
       "0.9092974268256817"
      ]
     },
     "execution_count": 2,
     "metadata": {},
     "output_type": "execute_result"
    }
   ],
   "source": [
    "from my_mathematics.math import MyMath, MyComplexMath\n",
    "from my_mathematics.vector import Vector\n",
    "MyMath.sin(2)"
   ]
  }
 ],
 "metadata": {
  "kernelspec": {
   "display_name": "Python 3",
   "language": "python",
   "name": "python3"
  },
  "language_info": {
   "codemirror_mode": {
    "name": "ipython",
    "version": 3
   },
   "file_extension": ".py",
   "mimetype": "text/x-python",
   "name": "python",
   "nbconvert_exporter": "python",
   "pygments_lexer": "ipython3",
   "version": "3.8.3"
  }
 },
 "nbformat": 4,
 "nbformat_minor": 4
}
