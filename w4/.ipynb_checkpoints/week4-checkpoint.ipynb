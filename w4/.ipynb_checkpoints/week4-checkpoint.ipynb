{
 "cells": [
  {
   "cell_type": "markdown",
   "metadata": {},
   "source": [
    "**1.** (1) Напишите программу, которая выводит количество переданных ей аргументов и печатает питоновский `list`, состоящий из этих аргументов."
   ]
  },
  {
   "cell_type": "code",
   "execution_count": 19,
   "metadata": {},
   "outputs": [
    {
     "name": "stdout",
     "output_type": "stream",
     "text": [
      "3, ['1', 'arg1', '6']\n"
     ]
    }
   ],
   "source": [
    "%run 1.py 1 arg1 6"
   ]
  },
  {
   "cell_type": "markdown",
   "metadata": {},
   "source": [
    "**2.** (1) Напишите программу, которая выводит версию питона и используемое ядро ОС."
   ]
  },
  {
   "cell_type": "code",
   "execution_count": 4,
   "metadata": {},
   "outputs": [
    {
     "name": "stdout",
     "output_type": "stream",
     "text": [
      "3.8.3 (default, Jul  2 2020, 17:30:36) [MSC v.1916 64 bit (AMD64)] \n",
      " nt \n",
      " win32\n"
     ]
    }
   ],
   "source": [
    "import sys\n",
    "import os\n",
    "\n",
    "print(sys.version, \"\\n\", os.name, \"\\n\", sys.platform)"
   ]
  },
  {
   "cell_type": "markdown",
   "metadata": {},
   "source": [
    "**3.** (2) Напишите консольную программу, которой на вход подается единственное число N (без имени или с именем -n), а программа печатает значение Nго числа Фибоначчи. Использовать `argparse`."
   ]
  },
  {
   "cell_type": "code",
   "execution_count": 9,
   "metadata": {},
   "outputs": [
    {
     "name": "stdout",
     "output_type": "stream",
     "text": [
      "55\n"
     ]
    }
   ],
   "source": [
    "%run 3.py -n 10"
   ]
  },
  {
   "cell_type": "markdown",
   "metadata": {},
   "source": [
    "**4.** (3) Напишите программу, которая на вход принимает три аргумента `--show-all (-a)`, `--file (-f) <file>` и один позиционный `number` и выводит n-ое простое число. Если передан аргумент командной строки `--show-all` или `-a`, то необходимо показывать все предыдущие простые числа (иначе показать только последнее). Если передан `--file` или `-f`, то нужно сохранить вывод программы в файл помимо печати в консоль (естественно, после `--file` надо считать путь к файлу). Порядок именованных аргументов не должен иметь значения. Для чтения файла использовать `argparse.FileType()`.\n",
    "\n",
    "Примеры:\n",
    "\n",
    "`# 5-ое простое число, показываем все, записываем в файл ./1.txt\n",
    "python numbers.py --show-all --file 1.txt 5`\n",
    "\n",
    "`# То же самое\n",
    "python numbers.py --file 1.txt --show-all 5`\n",
    "\n",
    "`# Просто выводим 10-ое число и только его\n",
    "python numbers.py 10`"
   ]
  },
  {
   "cell_type": "code",
   "execution_count": null,
   "metadata": {},
   "outputs": [],
   "source": []
  },
  {
   "cell_type": "markdown",
   "metadata": {},
   "source": [
    "**5.** (2) Напишите функцию, которая получает на вход список чисел и выдает ответ, сколько в данном списке четных чисел. Напишите декоратор, который меняет поведение функции следующим образом: если четных чисел нет, то пишет \"Нет(\" а если их больше 10, то пишет \"Очень много\"."
   ]
  },
  {
   "cell_type": "code",
   "execution_count": 22,
   "metadata": {},
   "outputs": [
    {
     "name": "stdout",
     "output_type": "stream",
     "text": [
      "2\n",
      "Нет\n",
      "Очень много\n"
     ]
    }
   ],
   "source": [
    "def decorator_function(func):\n",
    "    def wrapper(*args, **kwargs):\n",
    "        even_num = func(*args, **kwargs)\n",
    "        if not even_num:\n",
    "            return('Нет')\n",
    "        elif even_num > 10:\n",
    "            return('Очень много')\n",
    "        else:\n",
    "            return even_num\n",
    "    return wrapper\n",
    "\n",
    "\n",
    "@decorator_function\n",
    "def func(arg):\n",
    "    quan = 0\n",
    "    for i in arg:\n",
    "        if i % 2 == 0:\n",
    "            quan += 1\n",
    "    return quan\n",
    "\n",
    "print(func([1, 2, 3, 4, 5]))\n",
    "print(func([1, 3, 5]))\n",
    "print(func([2, 4, 6, 8, 10, 12, 14, 16, 18, 20, 22]))"
   ]
  },
  {
   "cell_type": "markdown",
   "metadata": {},
   "source": [
    "**6.** (2) Напишите декоратор `swap`, который делает так, что задекорированная функция принимает все свои неименованные аргументы в порядке, обратном тому, в котором их передали (для аргументов с именем не вполне правильно учитывать порядок, в котором они были переданы). \n",
    "*Вы можете использовать args для получения всех неименованных аргументов, развернуть tuple и передать через звездочку `*` *\n",
    "\n",
    "Пример ожидаемого поведения:\n",
    "\n",
    "\n",
    "@swap\n",
    "\n",
    "def div(x, y, show=False):\n",
    "\n",
    "    res = x / y\n",
    "    \n",
    "    if show:\n",
    "    \n",
    "        print(res)\n",
    "        \n",
    "    return res\n",
    "\n",
    "div(2, 4, show=True)\n",
    "\n",
    "`# Вернет 2.0` "
   ]
  },
  {
   "cell_type": "code",
   "execution_count": 24,
   "metadata": {},
   "outputs": [
    {
     "name": "stdout",
     "output_type": "stream",
     "text": [
      "2.0\n"
     ]
    }
   ],
   "source": [
    "def swap(func):\n",
    "    def wrapper(*args, **kwargs):\n",
    "        args = reversed(args)\n",
    "        func(*args, **kwargs)\n",
    "    return wrapper\n",
    "\n",
    "\n",
    "@swap\n",
    "def div(x, y, show=False):\n",
    "    res = x / y\n",
    "    if show:\n",
    "        print(res)\n",
    "    return res\n",
    "\n",
    "\n",
    "div(2, 4, show=True)"
   ]
  },
  {
   "cell_type": "markdown",
   "metadata": {},
   "source": [
    "**7.** (3) Напишите декоратор, который принимает в качестве аргумента путь к файлу. Если данный декоратор добавить к функции, то в указанный файл будет логироваться информация вида:\n",
    "- Время вызова функции\n",
    "- Входящие аргументы\n",
    "- Ответ return (если есть, если нет то логгировать '-')\n",
    "- Время завершения работы функции\n",
    "- Время работы функции"
   ]
  },
  {
   "cell_type": "code",
   "execution_count": null,
   "metadata": {},
   "outputs": [],
   "source": []
  },
  {
   "cell_type": "code",
   "execution_count": 95,
   "metadata": {},
   "outputs": [
    {
     "name": "stdout",
     "output_type": "stream",
     "text": [
      "Введите число: 10\n",
      "29\n",
      "[2, 3, 5, 7, 11, 13, 17, 19, 23, 29]\n"
     ]
    }
   ],
   "source": [
    "import math\n",
    "#import random\n",
    " \n",
    " \n",
    "def f_simpleInt(n):\n",
    "    nn = 2\n",
    "    yield 2\n",
    "    while 1:\n",
    "        nn +=1\n",
    "        for i in range(2, nn):\n",
    "            if nn % i == 0:\n",
    "                break\n",
    "            elif i == nn-1:\n",
    "                yield nn\n",
    "                \n",
    "genSimInt = f_simpleInt(n)\n",
    "mlist=[] \n",
    "k = int(input('Введите число: '))\n",
    "for i in range(k):\n",
    "    si = next(genSimInt)\n",
    "    mlist.append(si)\n",
    "print(si)\n",
    "print(mlist)"
   ]
  },
  {
   "cell_type": "code",
   "execution_count": 33,
   "metadata": {
    "scrolled": true
   },
   "outputs": [
    {
     "name": "stdout",
     "output_type": "stream",
     "text": [
      "Введите N: 10\n",
      "[0, 1, 2, 3, 5, 7]\n"
     ]
    }
   ],
   "source": [
    "N = int(input('Введите N: '))\n",
    "mlist = [] \n",
    "for k in range(N+1):\n",
    "    prime = True\n",
    "    for i in range(2, k):\n",
    "        if k%i == 0:\n",
    "            prime = False\n",
    "            break\n",
    "    if prime:\n",
    "        mlist.append(k)\n",
    "    \n",
    "print(mlist)\n"
   ]
  },
  {
   "cell_type": "code",
   "execution_count": 93,
   "metadata": {
    "scrolled": false
   },
   "outputs": [
    {
     "ename": "NameError",
     "evalue": "name 'nn' is not defined",
     "output_type": "error",
     "traceback": [
      "\u001b[1;31m---------------------------------------------------------------------------\u001b[0m",
      "\u001b[1;31mNameError\u001b[0m                                 Traceback (most recent call last)",
      "\u001b[1;32m~\\py\\rep1\\w4\\one.py\u001b[0m in \u001b[0;36m<module>\u001b[1;34m\u001b[0m\n\u001b[0;32m     15\u001b[0m                 \u001b[1;32myield\u001b[0m \u001b[0mnn\u001b[0m\u001b[1;33m\u001b[0m\u001b[1;33m\u001b[0m\u001b[0m\n\u001b[0;32m     16\u001b[0m \u001b[1;33m\u001b[0m\u001b[0m\n\u001b[1;32m---> 17\u001b[1;33m \u001b[0mgenSimInt\u001b[0m \u001b[1;33m=\u001b[0m \u001b[0mget_primes\u001b[0m\u001b[1;33m(\u001b[0m\u001b[0mnn\u001b[0m\u001b[1;33m)\u001b[0m\u001b[1;33m\u001b[0m\u001b[1;33m\u001b[0m\u001b[0m\n\u001b[0m\u001b[0;32m     18\u001b[0m \u001b[0mmlist\u001b[0m\u001b[1;33m=\u001b[0m\u001b[1;33m[\u001b[0m\u001b[1;33m]\u001b[0m\u001b[1;33m\u001b[0m\u001b[1;33m\u001b[0m\u001b[0m\n\u001b[0;32m     19\u001b[0m \u001b[0mk\u001b[0m \u001b[1;33m=\u001b[0m \u001b[0mint\u001b[0m\u001b[1;33m(\u001b[0m\u001b[0minput\u001b[0m\u001b[1;33m(\u001b[0m\u001b[1;34m'Введите число: '\u001b[0m\u001b[1;33m)\u001b[0m\u001b[1;33m)\u001b[0m\u001b[1;33m\u001b[0m\u001b[1;33m\u001b[0m\u001b[0m\n",
      "\u001b[1;31mNameError\u001b[0m: name 'nn' is not defined"
     ]
    }
   ],
   "source": [
    "%run one.py 10"
   ]
  }
 ],
 "metadata": {
  "kernelspec": {
   "display_name": "Python 3",
   "language": "python",
   "name": "python3"
  },
  "language_info": {
   "codemirror_mode": {
    "name": "ipython",
    "version": 3
   },
   "file_extension": ".py",
   "mimetype": "text/x-python",
   "name": "python",
   "nbconvert_exporter": "python",
   "pygments_lexer": "ipython3",
   "version": "3.8.3"
  }
 },
 "nbformat": 4,
 "nbformat_minor": 4
}
