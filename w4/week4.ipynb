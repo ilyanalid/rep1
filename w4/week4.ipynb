{
 "cells": [
  {
   "cell_type": "markdown",
   "metadata": {},
   "source": [
    "**1.** (1) Напишите программу, которая выводит количество переданных ей аргументов и печатает питоновский `list`, состоящий из этих аргументов."
   ]
  },
  {
   "cell_type": "code",
   "execution_count": 19,
   "metadata": {},
   "outputs": [
    {
     "name": "stdout",
     "output_type": "stream",
     "text": [
      "3, ['1', 'arg1', '6']\n"
     ]
    }
   ],
   "source": [
    "%run 1.py 1 arg1 6"
   ]
  },
  {
   "cell_type": "markdown",
   "metadata": {},
   "source": [
    "**2.** (1) Напишите программу, которая выводит версию питона и используемое ядро ОС."
   ]
  },
  {
   "cell_type": "code",
   "execution_count": 4,
   "metadata": {},
   "outputs": [
    {
     "name": "stdout",
     "output_type": "stream",
     "text": [
      "3.8.3 (default, Jul  2 2020, 17:30:36) [MSC v.1916 64 bit (AMD64)] \n",
      " nt \n",
      " win32\n"
     ]
    }
   ],
   "source": [
    "import sys\n",
    "import os\n",
    "\n",
    "print(sys.version, \"\\n\", os.name, \"\\n\", sys.platform)"
   ]
  },
  {
   "cell_type": "markdown",
   "metadata": {},
   "source": [
    "**3.** (2) Напишите консольную программу, которой на вход подается единственное число N (без имени или с именем -n), а программа печатает значение Nго числа Фибоначчи. Использовать `argparse`."
   ]
  },
  {
   "cell_type": "code",
   "execution_count": 9,
   "metadata": {},
   "outputs": [
    {
     "name": "stdout",
     "output_type": "stream",
     "text": [
      "55\n"
     ]
    }
   ],
   "source": [
    "%run 3.py -n 10"
   ]
  },
  {
   "cell_type": "markdown",
   "metadata": {},
   "source": [
    "**4.** (3) Напишите программу, которая на вход принимает три аргумента `--show-all (-a)`, `--file (-f) <file>` и один позиционный `number` и выводит n-ое простое число. Если передан аргумент командной строки `--show-all` или `-a`, то необходимо показывать все предыдущие простые числа (иначе показать только последнее). Если передан `--file` или `-f`, то нужно сохранить вывод программы в файл помимо печати в консоль (естественно, после `--file` надо считать путь к файлу). Порядок именованных аргументов не должен иметь значения. Для чтения файла использовать `argparse.FileType()`.\n",
    "\n",
    "Примеры:\n",
    "\n",
    "`# 5-ое простое число, показываем все, записываем в файл ./1.txt\n",
    "python numbers.py --show-all --file 1.txt 5`\n",
    "\n",
    "`# То же самое\n",
    "python numbers.py --file 1.txt --show-all 5`\n",
    "\n",
    "`# Просто выводим 10-ое число и только его\n",
    "python numbers.py 10`"
   ]
  },
  {
   "cell_type": "code",
   "execution_count": 108,
   "metadata": {},
   "outputs": [
    {
     "name": "stdout",
     "output_type": "stream",
     "text": [
      "5th prime number is 11\n",
      "2 3 5 7 11 13 17 19 23 29 31\n",
      "\n",
      "5th prime number is 11\n",
      "2 3 5 7 11 13 17 19 23 29 31\n",
      "\n",
      "10th prime number is 29\n",
      "\n"
     ]
    }
   ],
   "source": [
    "%run task4.py --show-all --file 1.txt 5\n",
    "%run task4.py --file 1.txt --show-all 5\n",
    "%run task4.py 10"
   ]
  },
  {
   "cell_type": "markdown",
   "metadata": {},
   "source": [
    "**5.** (2) Напишите функцию, которая получает на вход список чисел и выдает ответ, сколько в данном списке четных чисел. Напишите декоратор, который меняет поведение функции следующим образом: если четных чисел нет, то пишет \"Нет(\" а если их больше 10, то пишет \"Очень много\"."
   ]
  },
  {
   "cell_type": "code",
   "execution_count": 22,
   "metadata": {},
   "outputs": [
    {
     "name": "stdout",
     "output_type": "stream",
     "text": [
      "2\n",
      "Нет\n",
      "Очень много\n"
     ]
    }
   ],
   "source": [
    "def decorator_function(func):\n",
    "    def wrapper(*args, **kwargs):\n",
    "        even_num = func(*args, **kwargs)\n",
    "        if not even_num:\n",
    "            return('Нет')\n",
    "        elif even_num > 10:\n",
    "            return('Очень много')\n",
    "        else:\n",
    "            return even_num\n",
    "    return wrapper\n",
    "\n",
    "\n",
    "@decorator_function\n",
    "def func(arg):\n",
    "    quan = 0\n",
    "    for i in arg:\n",
    "        if i % 2 == 0:\n",
    "            quan += 1\n",
    "    return quan\n",
    "\n",
    "print(func([1, 2, 3, 4, 5]))\n",
    "print(func([1, 3, 5]))\n",
    "print(func([2, 4, 6, 8, 10, 12, 14, 16, 18, 20, 22]))"
   ]
  },
  {
   "cell_type": "markdown",
   "metadata": {},
   "source": [
    "**6.** (2) Напишите декоратор `swap`, который делает так, что задекорированная функция принимает все свои неименованные аргументы в порядке, обратном тому, в котором их передали (для аргументов с именем не вполне правильно учитывать порядок, в котором они были переданы). \n",
    "*Вы можете использовать args для получения всех неименованных аргументов, развернуть tuple и передать через звездочку `*` *\n",
    "\n",
    "Пример ожидаемого поведения:\n",
    "\n",
    "\n",
    "@swap\n",
    "\n",
    "def div(x, y, show=False):\n",
    "\n",
    "    res = x / y\n",
    "    \n",
    "    if show:\n",
    "    \n",
    "        print(res)\n",
    "        \n",
    "    return res\n",
    "\n",
    "div(2, 4, show=True)\n",
    "\n",
    "`# Вернет 2.0` "
   ]
  },
  {
   "cell_type": "code",
   "execution_count": 24,
   "metadata": {},
   "outputs": [
    {
     "name": "stdout",
     "output_type": "stream",
     "text": [
      "2.0\n"
     ]
    }
   ],
   "source": [
    "def swap(func):\n",
    "    def wrapper(*args, **kwargs):\n",
    "        args = reversed(args)\n",
    "        func(*args, **kwargs)\n",
    "    return wrapper\n",
    "\n",
    "\n",
    "@swap\n",
    "def div(x, y, show=False):\n",
    "    res = x / y\n",
    "    if show:\n",
    "        print(res)\n",
    "    return res\n",
    "\n",
    "\n",
    "div(2, 4, show=True)"
   ]
  },
  {
   "cell_type": "markdown",
   "metadata": {},
   "source": [
    "**7.** (3) Напишите декоратор, который принимает в качестве аргумента путь к файлу. Если данный декоратор добавить к функции, то в указанный файл будет логироваться информация вида:\n",
    "- Время вызова функции\n",
    "- Входящие аргументы\n",
    "- Ответ return (если есть, если нет то логгировать '-')\n",
    "- Время завершения работы функции\n",
    "- Время работы функции"
   ]
  },
  {
   "cell_type": "code",
   "execution_count": 110,
   "metadata": {},
   "outputs": [
    {
     "name": "stdout",
     "output_type": "stream",
     "text": [
      "[2, 3, 5, 7, 11, 13, 17, 19, 23, 29]\n",
      "get_primes\n"
     ]
    }
   ],
   "source": [
    "from functools import wraps\n",
    "# Wraps decorator to keep the attributes of the original function\n",
    "import time\n",
    "import datetime\n",
    "import math\n",
    "\n",
    "\n",
    "def logger(filename):\n",
    "    def decorator(func):\n",
    "        @wraps(func)\n",
    "        def wrapper(*args, **kwargs):\n",
    "            LOGGER_FORMAT = '''\\\n",
    "                Start time: {start_time}\n",
    "                Args: {args}\n",
    "                {return_value}\n",
    "                End time: {end_time}\n",
    "                Execution time: {exec_seconds} seconds\n",
    "            '''\n",
    "\n",
    "            start = time.time()\n",
    "            result = func(*args, **kwargs)\n",
    "            end = time.time()\n",
    "\n",
    "            with open(filename, 'w') as task7_file:\n",
    "                task7_file.writelines(\n",
    "                    LOGGER_FORMAT.format(\n",
    "                        start_time=datetime.datetime.fromtimestamp(start),\n",
    "                        args=args,\n",
    "                        return_value=('-' if not result else 'Return {}'.format(result)),\n",
    "                        end_time=datetime.datetime.fromtimestamp(end),\n",
    "                        exec_seconds=round((end - start), 5)\n",
    "                    )\n",
    "                )\n",
    "            return result\n",
    "        return wrapper\n",
    "    return decorator\n",
    "\n",
    "\n",
    "@logger('task7_file_new.txt')\n",
    "def get_primes(n):\n",
    "    lst = []\n",
    "    candidate = 2\n",
    "    while (len(lst) < n):\n",
    "        nokey = 1\n",
    "        for j in range(2, int(math.sqrt(candidate+1)+1)):\n",
    "            if candidate%j == 0 and j != candidate:\n",
    "                nokey = 0\n",
    "                break\n",
    "            else:\n",
    "                pass\n",
    "        if nokey:\n",
    "            lst.append(candidate)\n",
    "        candidate += 1\n",
    "    return lst\n",
    "\n",
    "\n",
    "\n",
    "print(get_primes(10))\n",
    "print(get_primes.__name__)"
   ]
  }
 ],
 "metadata": {
  "kernelspec": {
   "display_name": "Python 3",
   "language": "python",
   "name": "python3"
  },
  "language_info": {
   "codemirror_mode": {
    "name": "ipython",
    "version": 3
   },
   "file_extension": ".py",
   "mimetype": "text/x-python",
   "name": "python",
   "nbconvert_exporter": "python",
   "pygments_lexer": "ipython3",
   "version": "3.8.3"
  }
 },
 "nbformat": 4,
 "nbformat_minor": 4
}
