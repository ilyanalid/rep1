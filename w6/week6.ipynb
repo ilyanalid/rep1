{
 "cells": [
  {
   "cell_type": "markdown",
   "metadata": {},
   "source": [
    "## Теория по ООП: последние 2 принципа SOLID"
   ]
  },
  {
   "cell_type": "markdown",
   "metadata": {},
   "source": [
    "**1.**(1) *Interface seggregation* - опишите своими словами и приведите любой пример из жизни. Напишите это все в файл `interface_seggregation_explained.md`."
   ]
  },
  {
   "cell_type": "markdown",
   "metadata": {},
   "source": [
    "Принцип *Interface seggregation* декларирует, что клиенты не должны зависеть от методов, которые они **не используют**. То есть если какой-то метод интерфейса не используется клиентом, то изменения этого метода не должны приводить к необходимости внесения изменений в клиентский код.\n",
    "\n",
    "Следование принципу ISP заключается в создании интерфейсов, которые достаточно специфичны и требуют только необходимый минимум реализаций методов. Избыточные интерфейсы, напротив, могут требовать от реализующего класса создание большого количества методов, причём даже таких, которые не имеют смысла в контексте класса.\n",
    "\n",
    "- Пример из жизни:\n",
    "\n",
    "*Расписание на весь университет*. Если не разделить его по группам, а запихнуть все в один файл, то студенты запутаются. Не нужная им информация о занятиях других групп им не нужны, но они будут на них ходить, исходя из расписания.\n"
   ]
  },
  {
   "cell_type": "markdown",
   "metadata": {},
   "source": [
    "**2.**(1) *Dependency inversion* - опишите своими словами и приведите любой пример из жизни. Напишите это все в файл `dependency_inversion_explained.md`."
   ]
  },
  {
   "cell_type": "markdown",
   "metadata": {},
   "source": [
    "Принцип декларирует, что модули верхних уровней не должны зависеть от модулей нижних уровней, а оба типа модулей должны зависеть от абстракций; сами абстракции не должны зависеть от деталей, а вот детали должны зависеть от абстракций.\n",
    "- Пример из жизни:\n",
    "\n",
    "*Реализация хранения документов в веб-приложении.* На первый взгляд, кажется логичным добавить зависимость от модулей работы с файловой системой непосредственно в класс, отвечающий за высокоуровневую работу с этими документами. Но в перспективе такая зависимость может создать проблемы — например, нам потребуется хранить данные не только на диске, но и в облаке. Если зависимость внедрена от реализации, то мы столкнёмся с необходимостью её переработки. Если же зависимость выведена на уровень абстракции (интерфейса), то нам будет достаточно реализовать функционал работы с облаком, соответствующий ранее созданному интерфейсу работы с файлами."
   ]
  },
  {
   "cell_type": "markdown",
   "metadata": {},
   "source": [
    "## Стытические и классовые методы"
   ]
  },
  {
   "cell_type": "markdown",
   "metadata": {},
   "source": [
    "**3.** (2) Напишите небольшой класс `MyMath` и реализуйте в нем:\n",
    "- Статический метод `sin(x)`, возвращающий синус числа (число задано в радианах).\n",
    "- Статическое поле `pi`, в котором будет лежать значение `3.14`\n",
    "- Статическое поле `__complex`, в котором будет лежать значение `False` (понадобится в задании 5)."
   ]
  },
  {
   "cell_type": "code",
   "execution_count": 9,
   "metadata": {},
   "outputs": [
    {
     "name": "stdout",
     "output_type": "stream",
     "text": [
      "6.0\n"
     ]
    },
    {
     "ename": "ValueError",
     "evalue": "Нет корня из отрицательного числа!",
     "output_type": "error",
     "traceback": [
      "\u001b[1;31m---------------------------------------------------------------------------\u001b[0m",
      "\u001b[1;31mValueError\u001b[0m                                Traceback (most recent call last)",
      "\u001b[1;32m<ipython-input-9-ecd9d805994b>\u001b[0m in \u001b[0;36m<module>\u001b[1;34m\u001b[0m\n\u001b[0;32m     31\u001b[0m \u001b[1;33m\u001b[0m\u001b[0m\n\u001b[0;32m     32\u001b[0m \u001b[0mprint\u001b[0m\u001b[1;33m(\u001b[0m\u001b[0mMyMath\u001b[0m\u001b[1;33m.\u001b[0m\u001b[0msqrt\u001b[0m\u001b[1;33m(\u001b[0m\u001b[1;36m36\u001b[0m\u001b[1;33m)\u001b[0m\u001b[1;33m)\u001b[0m\u001b[1;33m\u001b[0m\u001b[1;33m\u001b[0m\u001b[0m\n\u001b[1;32m---> 33\u001b[1;33m \u001b[0mprint\u001b[0m\u001b[1;33m(\u001b[0m\u001b[0mMyMath\u001b[0m\u001b[1;33m.\u001b[0m\u001b[0msqrt\u001b[0m\u001b[1;33m(\u001b[0m\u001b[1;33m-\u001b[0m\u001b[1;36m36\u001b[0m\u001b[1;33m)\u001b[0m\u001b[1;33m)\u001b[0m\u001b[1;33m\u001b[0m\u001b[1;33m\u001b[0m\u001b[0m\n\u001b[0m",
      "\u001b[1;32m<ipython-input-9-ecd9d805994b>\u001b[0m in \u001b[0;36msqrt\u001b[1;34m(cls, x)\u001b[0m\n\u001b[0;32m     25\u001b[0m         \u001b[1;32melse\u001b[0m\u001b[1;33m:\u001b[0m\u001b[1;33m\u001b[0m\u001b[1;33m\u001b[0m\u001b[0m\n\u001b[0;32m     26\u001b[0m             \u001b[1;32mif\u001b[0m \u001b[0mx\u001b[0m \u001b[1;33m<\u001b[0m \u001b[1;36m0\u001b[0m\u001b[1;33m:\u001b[0m\u001b[1;33m\u001b[0m\u001b[1;33m\u001b[0m\u001b[0m\n\u001b[1;32m---> 27\u001b[1;33m                 \u001b[1;32mraise\u001b[0m \u001b[0mValueError\u001b[0m\u001b[1;33m(\u001b[0m\u001b[1;34m\"Нет корня из отрицательного числа!\"\u001b[0m\u001b[1;33m)\u001b[0m\u001b[1;33m\u001b[0m\u001b[1;33m\u001b[0m\u001b[0m\n\u001b[0m\u001b[0;32m     28\u001b[0m             \u001b[1;32melse\u001b[0m\u001b[1;33m:\u001b[0m\u001b[1;33m\u001b[0m\u001b[1;33m\u001b[0m\u001b[0m\n\u001b[0;32m     29\u001b[0m                 \u001b[1;32mreturn\u001b[0m \u001b[0mmath\u001b[0m\u001b[1;33m.\u001b[0m\u001b[0msqrt\u001b[0m\u001b[1;33m(\u001b[0m\u001b[0mx\u001b[0m\u001b[1;33m)\u001b[0m\u001b[1;33m\u001b[0m\u001b[1;33m\u001b[0m\u001b[0m\n",
      "\u001b[1;31mValueError\u001b[0m: Нет корня из отрицательного числа!"
     ]
    }
   ],
   "source": [
    "import cmath\n",
    "import math\n",
    "\n",
    "class MyMath:\n",
    "    pi = math.pi\n",
    "    __complex = False\n",
    "\n",
    "    @classmethod\n",
    "    def name(cls):\n",
    "        return cls.__name__\n",
    "\n",
    "    @staticmethod\n",
    "    def sin(x):\n",
    "        return math.sin(x)\n",
    "\n",
    "    @classmethod\n",
    "    def complex(cls):\n",
    "        return cls.__complex\n",
    "\n",
    "    @classmethod\n",
    "    def sqrt(cls, x):\n",
    "        if cls.complex(): \n",
    "            result = cmath.sqrt(x) \n",
    "            return result.real, result.imag\n",
    "        else:\n",
    "            if x < 0:\n",
    "                raise ValueError(\"Нет корня из отрицательного числа!\")\n",
    "            else:\n",
    "                return math.sqrt(x)\n",
    "\n",
    "            \n",
    "print(MyMath.sqrt(36))\n",
    "print(MyMath.sqrt(-36))"
   ]
  },
  {
   "cell_type": "markdown",
   "metadata": {},
   "source": [
    "**4.** (3) Создайте класс `MyComplexMath`, который будет наследовать `MyMath` из п.4. В классе `MyComplexMath` перегрузите поле `__complex`, присвоив ему значение `True`.\n",
    "\n",
    "Теперь отредактируйте `MyMath` следующим образом: создайте в нем *классовый метод* `sqrt(cls, x)`, который считает квадратный корень. При получении **отрицательного** числа на вход метод должен проверять поле `__complex` из п.4. Если поле равно `False`, то выбрасывается ошибка `ValueError` (с любым осмысленным сообщением). Если поле `__complex` равно `True`, то возвращется кортеж (tuple) вида: `(real_part, imaginary_part)`.\n",
    "\n",
    "По итогу должны быть выполнены следующие условия:\n",
    "\n",
    "- класс `MyComplexMath` переопределяет только поле `__complex`;\n",
    "- класс `MyMath` падает при вызове метода `sqrt` от отрицательного числа;\n",
    "- класс `MyComplexMath` не падает и считает корень из отрицательного числа при вызове `sqrt` от отрицательного числа;"
   ]
  },
  {
   "cell_type": "code",
   "execution_count": 6,
   "metadata": {},
   "outputs": [
    {
     "name": "stdout",
     "output_type": "stream",
     "text": [
      "(6.0, 0.0)\n",
      "(0.0, 6.0)\n",
      "(2.0, 1.0)\n"
     ]
    }
   ],
   "source": [
    "import cmath\n",
    "import math\n",
    "\n",
    "class MyMath:  #инкапсуляция\n",
    "    pi = math.pi\n",
    "    _complex = False\n",
    "\n",
    "    @classmethod\n",
    "    def name(cls):\n",
    "        return cls.__name__\n",
    "\n",
    "    @staticmethod\n",
    "    def sin(x):\n",
    "        return math.sin(x)\n",
    "\n",
    "    @classmethod\n",
    "    def complex(cls):\n",
    "        return cls._complex\n",
    "\n",
    "    @classmethod\n",
    "    def sqrt(cls, x):\n",
    "        if cls.complex(): #полиморфизм\n",
    "            result = cmath.sqrt(x) \n",
    "            return result.real, result.imag\n",
    "        else:\n",
    "            if x < 0:\n",
    "                raise ValueError(\"Нет корня из отрицательного числа!\")\n",
    "            else:\n",
    "                return math.sqrt(x)\n",
    "            \n",
    "class MyComplexMath(MyMath): #наследование\n",
    "    _complex = True\n",
    "\n",
    "\n",
    "    \n",
    "print(MyComplexMath.sqrt(36))\n",
    "print(MyComplexMath.sqrt(-36))\n",
    "print(MyComplexMath.sqrt(3+4j))"
   ]
  },
  {
   "cell_type": "markdown",
   "metadata": {},
   "source": [
    "**5.** (1) Опишите в комментариях к коду, где использовался полиформизм, где инкапсуляция, а где наследование. Также напишите, почему мы использовали классовый метод, а не статический."
   ]
  },
  {
   "cell_type": "markdown",
   "metadata": {},
   "source": [
    " - classmethod принимает cls как первый параметр, тогда как staticmethod в специальных аргументах не нуждается \n",
    " - classmethod может получать доступ или менять состояние класса, в то время как staticmethod нет \n",
    " - staticmethod в целом вообще ничего не знают про класс. Это просто функция над аргументами, объявленная внутри класса."
   ]
  },
  {
   "cell_type": "markdown",
   "metadata": {},
   "source": [
    "**6.**(3) Реализуйте свой класс `Complex` для комплексных чисел, аналогично встроенной реализации `complex`:\n",
    "\n",
    "- добавьте инициализатор класса;\n",
    "- реализуйте основные математические операции: сложение, вычитание, деление, умножение, возведение в степень, взятие `-c`;\n",
    "- реализуйте операцию модуля (abs, вызываемую как |c|);\n",
    "- оба класса должны давать осмысленный вывод как при `print`, так и просто при вызове в интерактивном интерпретаторе или в jupyter notebook."
   ]
  },
  {
   "cell_type": "code",
   "execution_count": 53,
   "metadata": {},
   "outputs": [
    {
     "name": "stdout",
     "output_type": "stream",
     "text": [
      "(2.0+3.0i)\n",
      "(7.0+7.0i)\n",
      "(-3.0+-1.0i)\n",
      "(1.6923076923076923+-0.5384615384615384i)\n",
      "(-2.0+23.0i)\n",
      "(-2.0+-3.0i)\n",
      "3.605551275463989\n"
     ]
    }
   ],
   "source": [
    "class Complex(object): \n",
    "    def __init__(self, real, imag=0):\n",
    "        self.__real = float(real)\n",
    "        self.__imag = float(imag)\n",
    "\n",
    "    def __str__(self):\n",
    "        return f'({self.__real}+{self.__imag}i)'\n",
    "    \n",
    "    def real(self):\n",
    "        return self.__real\n",
    "\n",
    "    def imag(self):\n",
    "        return self.__imag\n",
    "        \n",
    "    def __add__(self, other):\n",
    "        return Complex(self.__real + other.__real, self.__imag + other.__imag)\n",
    "\n",
    "    def __sub__(self, other):\n",
    "        return Complex(self.__real - other.__real, self.__imag - other.__imag)\n",
    "\n",
    "    def __truediv__(self, other):\n",
    "        den = other.__real ** 2 + other.__imag ** 2\n",
    "        if den == 0:\n",
    "            return None\n",
    "        return Complex((self.__real * other.__real + self.__imag * other.__imag)/den,\n",
    "                       (self.__imag * other.__real - self.__real * other.__imag)/den)\n",
    "    \n",
    "    def __mul__(self, other):\n",
    "        return Complex(self.__real * other.__real - self.__imag * other.__imag,\n",
    "                       self.__real * other.__imag + self.__imag * other.__real)\n",
    "\n",
    "    def __neg__(self):\n",
    "        return Complex(-self.__real, -self.__imag)\n",
    "\n",
    "    def abs_squared(self):\n",
    "        return self.__real ** 2 + self.__imag**2\n",
    "\n",
    "    def abs(self):\n",
    "        return np.sqrt(self.abs_squared())\n",
    "    \n",
    "    \n",
    "    \n",
    "a = Complex(2, 3)\n",
    "b = Complex(5, 4)\n",
    "\n",
    "print(a)\n",
    "print(a + b)\n",
    "print(a - b)\n",
    "print(b/a)\n",
    "print(a*b)\n",
    "print(-a)\n",
    "print(a.abs())"
   ]
  },
  {
   "cell_type": "markdown",
   "metadata": {},
   "source": [
    "**7.**(3) Создайте класс `Vector` с полями `x`, `y`, `z` определите для него конструктор, метод `__str__`, необходимые арифметические операции. Реализуйте конструктор, который принимает строку в формате \"x,y\". Реализуйте векторной произведение векторов через оператор `&`."
   ]
  },
  {
   "cell_type": "code",
   "execution_count": 1,
   "metadata": {},
   "outputs": [
    {
     "name": "stdout",
     "output_type": "stream",
     "text": [
      "(1, 2, 3)\n",
      "(4, 6, 8)\n",
      "(-2, -2, -2)\n",
      "(-2, 4, -2)\n"
     ]
    }
   ],
   "source": [
    "class Vector(object):\n",
    "    def __init__(self, x = 0, y = 0, z = 0):\n",
    "        self.x = x\n",
    "        self.y = y\n",
    "        self.z = z\n",
    "        \n",
    "    def __str__(self):\n",
    "        return f'({self.x}, {self.y}, {self.z})'\n",
    "    \n",
    "    def __add__(self, other):\n",
    "        return Vector(self.x + other.x, self.y + other.y, self.z + other.z)\n",
    "    \n",
    "    def __sub__(self, other):\n",
    "        return Vector(self.x - other.x, self.y - other.y, self.z -  other.z)\n",
    "    \n",
    "    def __matmul__(self, other):\n",
    "        return Vector(self.y*other.z - self.z*other.y, \n",
    "                      self.z*other.x - self.x*other.z,\n",
    "                      self.x*other.y - self.y*other.x)\n",
    "        \n",
    "    \n",
    "a = Vector(1, 2, 3)\n",
    "b = Vector(3, 4, 5)\n",
    "print(a)\n",
    "print(a + b)\n",
    "print(a - b)\n",
    "print(a @ b)"
   ]
  },
  {
   "cell_type": "markdown",
   "metadata": {},
   "source": [
    "**8.**(2) Программа получает на вход число N, далее координаты N точек. Доопределите в классе `Vector` недостающие операторы, найдите и выведите координаты точки, наиболее удаленной от начала координат."
   ]
  },
  {
   "cell_type": "code",
   "execution_count": 5,
   "metadata": {},
   "outputs": [
    {
     "name": "stdout",
     "output_type": "stream",
     "text": [
      "4\n",
      "2 3\n",
      "12\n",
      "1 3\n",
      "4 5\n",
      "[4.0, 5.0]\n"
     ]
    }
   ],
   "source": [
    "\n",
    "\n",
    "class Vector(object):\n",
    "    def __init__(self, *args):\n",
    "        if len(args) == 0:\n",
    "            self.values = (0, 0)\n",
    "        else:\n",
    "            self.values = args\n",
    "        \n",
    "    def norm(self):\n",
    "        return math.sqrt(sum(comp**2 for comp in self))\n",
    "    \n",
    "    def normalize(self):\n",
    "        norm = self.norm()\n",
    "        normed = tuple(comp/norm for comp in self)\n",
    "        return Vector(*normed)\n",
    "    \n",
    "    def __iter__(self):\n",
    "        return self.values.__iter__()\n",
    "\n",
    "    def __len__(self):\n",
    "        return len(self.values)\n",
    "\n",
    "    def __getitem__(self, key):\n",
    "        return self.values[key]\n",
    "\n",
    "    def __repr__(self):\n",
    "        return str(self.values)\n",
    "    \n",
    "class MyVector(Vector):\n",
    "    def __init__(self, *args):\n",
    "        if len(args) == 0:\n",
    "            self.values = (0, 0)\n",
    "        elif type(args[0]) == str:\n",
    "            temp = list(map(float, list(args[0].split(','))))\n",
    "            self.values = temp\n",
    "        else:\n",
    "            self.values = args\n",
    "    \n",
    "N = int(input())\n",
    "vector_list = []\n",
    "\n",
    "for _ in range(N):\n",
    "    temp = input()\n",
    "    temp = ','.join(list(temp.split(' ')))\n",
    "    vector_list.append(MyVector(temp))\n",
    "\n",
    "for vector in vector_list:\n",
    "    mx = MyVector()\n",
    "    if vector.norm() > mx.norm():\n",
    "        mx = vector\n",
    "        \n",
    "print(mx)"
   ]
  }
 ],
 "metadata": {
  "kernelspec": {
   "display_name": "Python 3",
   "language": "python",
   "name": "python3"
  },
  "language_info": {
   "codemirror_mode": {
    "name": "ipython",
    "version": 3
   },
   "file_extension": ".py",
   "mimetype": "text/x-python",
   "name": "python",
   "nbconvert_exporter": "python",
   "pygments_lexer": "ipython3",
   "version": "3.8.3"
  }
 },
 "nbformat": 4,
 "nbformat_minor": 4
}
