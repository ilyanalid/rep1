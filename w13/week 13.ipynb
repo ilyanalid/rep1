{
 "cells": [
  {
   "cell_type": "markdown",
   "metadata": {},
   "source": [
    "**1.**"
   ]
  },
  {
   "cell_type": "code",
   "execution_count": 1,
   "metadata": {},
   "outputs": [],
   "source": [
    "class MyClass:\n",
    "    def __init__(self, name, surname, is_hired):\n",
    "        self.name = name\n",
    "        self.surname = surname\n",
    "        self.is_hired = is_hired\n",
    "\n",
    "\n",
    "def obj_to_json(my_class_instance):\n",
    "    \"\"\"\n",
    "    Получает на вход объект класса MyClass,\n",
    "    выдает на выходе JSON-представление.\n",
    "    >>> a = MyClass('me', 'my_surname', True)\n",
    "    >>> obj_to_json(a)\n",
    "    {'name': 'me', 'surname': 'my_surname', 'is_hired': True'}\n",
    "    \"\"\"\n",
    "    # NOTE: используйте obj.__dict__, не пишите явно все поля класса\n",
    "    return json.dumps(my_class_instance.__dict__)\n",
    "\n",
    "\n",
    "def json_to_obj(my_class_instance):\n",
    "    \"\"\"\n",
    "    Получает на вход JSON-представление,\n",
    "    выдает на выходе объект класса MyClass.\n",
    "    >>> a = MyClass('me', 'my_surname', True)\n",
    "    >>> json_dict = get_json(a)\n",
    "    >>> b = json_to_obj(json_dict)\n",
    "    <__main__.MyClass object at 0x7fd8e9634510>\n",
    "    \"\"\"\n",
    "    # NOTE: можно использовать kwargs: MyClass(**some_dict)\n",
    "    obj_dict = json.loads(my_class_instance)\n",
    "    obj = MyClass(**obj_dict)\n",
    "    return obj"
   ]
  },
  {
   "cell_type": "markdown",
   "metadata": {},
   "source": [
    "**2.**\n",
    "\n",
    "Попробуйте сериализовать следующие объекты:\n",
    "- I/O объекты (например, открытый файл - результат open()); **-нельзя**\n",
    "- итераторы; **-можно**\n",
    "- встроенные функции (например, print или abs); **можно**\n",
    "- функции и классы (сами классы, а не их объекты!) из подключенных библиотек (например, deque из collections);**-можно с некоторыми ограничениями** https://docs.python.org/3/library/pickle.html\n",
    "- самописные функции и классы. \n",
    "\n",
    "Что из этого можно сериализовать? Можно ли с этими объектами после их десериализации взаимодействовать так, как это бы делалось до сериализации? Опишите результаты либо в комментариях к коду, либо в отдельном файле list_of_serializables.md"
   ]
  },
  {
   "cell_type": "code",
   "execution_count": 2,
   "metadata": {},
   "outputs": [
    {
     "name": "stdout",
     "output_type": "stream",
     "text": [
      "ok\n"
     ]
    }
   ],
   "source": [
    "import pickle\n",
    "\n",
    "\n",
    "def pickle_test(inp):\n",
    "    with open('temp.pickle', 'wb') as f:\n",
    "        pickle.dump(inp, f)\n",
    "        \n",
    "    with open('temp.pickle', 'rb') as f:\n",
    "        out = pickle.load(f)\n",
    "    \n",
    "    assert type(inp) == type(out)\n",
    "    \n",
    "    if hasattr(inp, '__iter__'):\n",
    "        assert [i for i in inp] == [j for j in out], 'no'\n",
    "    else:\n",
    "        assert inp == out, 'no'\n",
    "    \n",
    "    print('ok')\n",
    "    return None\n",
    "\n",
    "\n",
    "data = iter([1, 2, 3, 4, 5])\n",
    "pickle_test(data)"
   ]
  },
  {
   "cell_type": "markdown",
   "metadata": {},
   "source": [
    "**3.**"
   ]
  },
  {
   "cell_type": "markdown",
   "metadata": {},
   "source": [
    "Успешный backup:"
   ]
  },
  {
   "cell_type": "code",
   "execution_count": 3,
   "metadata": {},
   "outputs": [
    {
     "name": "stdout",
     "output_type": "stream",
     "text": [
      "add 1\n",
      "add 2\n",
      "add 4\n",
      "add 8\n",
      "add 9\n",
      "add 1\n",
      "print\n",
      "\n",
      "    __1__\n",
      "   /     \\\n",
      "  2       4\n",
      " / \\     /\n",
      "8   9   1\n",
      "\n",
      "dump\n",
      "exit\n"
     ]
    }
   ],
   "source": [
    "%run task3/controller.py"
   ]
  },
  {
   "cell_type": "code",
   "execution_count": 4,
   "metadata": {},
   "outputs": [
    {
     "name": "stdout",
     "output_type": "stream",
     "text": [
      "print\n",
      "\n",
      "    __1__\n",
      "   /     \\\n",
      "  2       4\n",
      " / \\     /\n",
      "8   9   1\n",
      "\n",
      "exit\n"
     ]
    }
   ],
   "source": [
    "%run task3/controller.py"
   ]
  },
  {
   "cell_type": "markdown",
   "metadata": {},
   "source": [
    "**4.**"
   ]
  },
  {
   "cell_type": "code",
   "execution_count": 5,
   "metadata": {},
   "outputs": [
    {
     "name": "stdout",
     "output_type": "stream",
     "text": [
      "I'm being pickled\n",
      "I'm being unpickled with these values: {'master_path': WindowsPath('temp'), 'files_list': [WindowsPath('temp/sample/19181126003446'), WindowsPath('temp/sample/19181126003812'), WindowsPath('temp/sample/19181126004110'), WindowsPath('temp/sample/19181126004830'), WindowsPath('temp/sample/19181126005042'), WindowsPath('temp/sample/19181126005050'), WindowsPath('temp/sample/19181126110454'), WindowsPath('temp/sample/19181126110757'), WindowsPath('temp/sample/19181126111002'), WindowsPath('temp/sample/19181126111317'), WindowsPath('temp/sample/19181126111701'), WindowsPath('temp/sample/19181126111858'), WindowsPath('temp/sample/19181126112103'), WindowsPath('temp/sample/19181126112327'), WindowsPath('temp/sample/19181126112609'), WindowsPath('temp/sample/19181126112735'), WindowsPath('temp/sample/19181126113026'), WindowsPath('temp/sample/19181126113208'), WindowsPath('temp/sample/19181126113522'), WindowsPath('temp/sample/19181126114456'), WindowsPath('temp/sample/19181126114724'), WindowsPath('temp/sample/19181126114931'), WindowsPath('temp/sample/19181126115232'), WindowsPath('temp/sample/19181126115411'), WindowsPath('temp/sample/19181126115908'), WindowsPath('temp/sample/19181126120050'), WindowsPath('temp/sample/19181126120310'), WindowsPath('temp/sample/19181126120544'), WindowsPath('temp/sample/19181126120850'), WindowsPath('temp/sample/19181126121032'), WindowsPath('temp/sample/19181126121225'), WindowsPath('temp/sample/19181126121424'), WindowsPath('temp/sample/19181126121742'), WindowsPath('temp/sample/19181126122927'), WindowsPath('temp/sample/19181126123143'), WindowsPath('temp/sample/19181126123351'), WindowsPath('temp/sample/19181126123525'), WindowsPath('temp/sample/19181126172529'), WindowsPath('temp/sample/19181126172720'), WindowsPath('temp/sample/19181126172927'), WindowsPath('temp/sample/19181126173124'), WindowsPath('temp/sample/19181126173352'), WindowsPath('temp/sample/19181126173542'), WindowsPath('temp/sample/19181126173819'), WindowsPath('temp/sample/19181126174016'), WindowsPath('temp/sample/19181126174155'), WindowsPath('temp/sample/19181126174450'), WindowsPath('temp/sample/19181126231643'), WindowsPath('temp/sample/19181126232200'), WindowsPath('temp/sample/19181126232817'), WindowsPath('temp/sample/19181127183112'), WindowsPath('temp/sample/19181127183538'), WindowsPath('temp/sample/19181127183730'), WindowsPath('temp/sample/19181127184313'), WindowsPath('temp/sample/19181127184710'), WindowsPath('temp/sample/19181127185225'), WindowsPath('temp/sample/19181127185448'), WindowsPath('temp/sample/19181127185758'), WindowsPath('temp/sample/19181127190201'), WindowsPath('temp/sample/19181127190356'), WindowsPath('temp/sample/19181127190600'), WindowsPath('temp/sample/19181127191124'), WindowsPath('temp/sample/19181127192006'), WindowsPath('temp/sample/19181127192420'), WindowsPath('temp/sample/19181127192719'), WindowsPath('temp/sample/19181127193513'), WindowsPath('temp/sample/19181127194156'), WindowsPath('temp/sample/19181127202112'), WindowsPath('temp/sample/19181127203746'), WindowsPath('temp/sample/19181127205241'), WindowsPath('temp/sample/19181127205852'), WindowsPath('temp/sample/19181127210208'), WindowsPath('temp/sample/19181127210730'), WindowsPath('temp/sample/19181127211006'), WindowsPath('temp/sample/19181127211154'), WindowsPath('temp/sample/19181127211311'), WindowsPath('temp/sample/19181127211428'), WindowsPath('temp/sample/19181127211644'), WindowsPath('temp/sample/19181127212116'), WindowsPath('temp/sample/19181127212224'), WindowsPath('temp/sample/19181127212353'), WindowsPath('temp/sample/19181127212539'), WindowsPath('temp/sample/19181127212740'), WindowsPath('temp/sample/19181127212846'), WindowsPath('temp/sample/19181127213000'), WindowsPath('temp/sample/19181127213246'), WindowsPath('temp/sample/19181127213431'), WindowsPath('temp/sample/19181127214009'), WindowsPath('temp/sample/19181127214201'), WindowsPath('temp/sample/19181127214357'), WindowsPath('temp/sample/19181127214504'), WindowsPath('temp/sample/19181127214601'), WindowsPath('temp/sample/19181127214957'), WindowsPath('temp/sample/19181127215802'), WindowsPath('temp/sample/19181127220012'), WindowsPath('temp/sample/19181127220236'), WindowsPath('temp/sample/19181127220355'), WindowsPath('temp/sample/19181127220505'), WindowsPath('temp/sample/19181127220632'), WindowsPath('temp/sample/19181127220820')], 'iterable': <list_iterator object at 0x000002481E54FF40>}\n"
     ]
    }
   ],
   "source": [
    "from task4 import TextLoader\n",
    "\n",
    "\n",
    "href = 'http://cs.mipt.ru/advanced_python/extra/lab9/sample.zip'\n",
    "a = TextLoader(href)\n",
    "\n",
    "a_data = pickle.dumps(a)\n",
    "a_new = pickle.loads(a_data)"
   ]
  },
  {
   "cell_type": "code",
   "execution_count": 6,
   "metadata": {},
   "outputs": [],
   "source": [
    "from pathlib import Path\n",
    "import shutil\n",
    "path_to_del = Path('temp')\n",
    "shutil.rmtree(path_to_del)"
   ]
  }
 ],
 "metadata": {
  "kernelspec": {
   "display_name": "Python 3",
   "language": "python",
   "name": "python3"
  },
  "language_info": {
   "codemirror_mode": {
    "name": "ipython",
    "version": 3
   },
   "file_extension": ".py",
   "mimetype": "text/x-python",
   "name": "python",
   "nbconvert_exporter": "python",
   "pygments_lexer": "ipython3",
   "version": "3.8.3"
  }
 },
 "nbformat": 4,
 "nbformat_minor": 4
}
