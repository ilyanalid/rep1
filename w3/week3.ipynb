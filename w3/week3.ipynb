{
 "cells": [
  {
   "cell_type": "markdown",
   "metadata": {},
   "source": [
    "**1.** Создайте произвольный текстовый файл с несколькими строками произвольного текста. Выведите в консоль строки файла, удалив лишние пробелы в начале и конце строк, если они есть (strip)."
   ]
  },
  {
   "cell_type": "code",
   "execution_count": 6,
   "metadata": {},
   "outputs": [
    {
     "name": "stdout",
     "output_type": "stream",
     "text": [
      "создайте произвольный текстовый файл с несколькими строками произвольного текста.\n",
      "Выведите в консоль строки файла,\n",
      "удалив лишние пробелы в начале и конце строк,\n",
      "если они есть\n"
     ]
    }
   ],
   "source": [
    "with open(\"task1.txt\", \"r\", encoding=\"utf8\") as file:\n",
    "    for line in file:\n",
    "        print(line.strip())"
   ]
  },
  {
   "cell_type": "markdown",
   "metadata": {},
   "source": [
    "**2.** Запишите в новый файл содержимое списка строк (каждую строку с новой строки) без использования цикла. В итоге должна получиться функция:"
   ]
  },
  {
   "cell_type": "code",
   "execution_count": null,
   "metadata": {},
   "outputs": [],
   "source": [
    "def write_array(array, file_name):\n",
    "    \"\"\"записывает строки из array в файл file_name\"\"\"\n",
    "    #ваш код здесь\n",
    "    pass"
   ]
  },
  {
   "cell_type": "code",
   "execution_count": 7,
   "metadata": {},
   "outputs": [
    {
     "name": "stdout",
     "output_type": "stream",
     "text": [
      "one\n",
      "two\n",
      "three\n",
      "four\n"
     ]
    }
   ],
   "source": [
    "def write_array(array, file_name):\n",
    "    array = map(lambda x : x+'\\n', array)\n",
    "    file_name.writelines(array)\n",
    "A=[\"one\", \"two\", \"three\", \"four\"]    \n",
    "with open(\"task2.txt\", \"w\", encoding=\"utf8\") as file:\n",
    "    write_array(A, file)\n",
    "with open(\"task2.txt\", \"r\", encoding=\"utf8\") as file:\n",
    "    for line in file:\n",
    "        print(line.strip())"
   ]
  },
  {
   "cell_type": "markdown",
   "metadata": {},
   "source": [
    "**3.** Вам дана в архиве **main.zip** файловая структура, состоящая из директорий и файлов. \n",
    "\n",
    "Необходимо распаковать этот архив (средствами языка python), и затем найти в данной в файловой структуре все директории, в которых есть хотя бы один файл с расширением **\".py\"** .\n",
    "\n",
    "Ответом на данную задачу будет являться файл со списком таких директорий, отсортированных в лексикографическом порядке."
   ]
  },
  {
   "cell_type": "code",
   "execution_count": 11,
   "metadata": {},
   "outputs": [
    {
     "name": "stdout",
     "output_type": "stream",
     "text": [
      "abslw\n",
      "afkgv\n",
      "armko\n",
      "auqky\n",
      "axqur\n",
      "bcsow\n",
      "bdcjg\n",
      "bkfog\n",
      "bpmhg\n",
      "cazio\n",
      "ckaab\n",
      "ddnaa\n",
      "djozj\n",
      "dnyyv\n",
      "dufxr\n",
      "frtrl\n",
      "ggfcr\n",
      "grnfu\n",
      "gvbnv\n",
      "hapry\n",
      "hgyoc\n",
      "hlgup\n",
      "hotgx\n",
      "iaujh\n",
      "iglcm\n",
      "ilogc\n",
      "isyki\n",
      "itkcz\n",
      "ivjta\n",
      "izwwv\n",
      "joejy\n",
      "jqjsg\n",
      "jqnsz\n",
      "jtmnb\n",
      "juoxd\n",
      "jvmme\n",
      "kafov\n",
      "kehsm\n",
      "kgdme\n",
      "kjmeo\n",
      "ksnof\n",
      "ktkfx\n",
      "kwawh\n",
      "lirot\n",
      "lldpv\n",
      "lradw\n",
      "lszec\n",
      "main\n",
      "mhqps\n",
      "mmtsz\n",
      "mwhci\n",
      "nfcxf\n",
      "nuiwj\n",
      "otofk\n",
      "phcap\n",
      "phcud\n",
      "purto\n",
      "pxjip\n",
      "qkseh\n",
      "qosgw\n",
      "qrxwt\n",
      "qwlrx\n",
      "rbyav\n",
      "rcsvd\n",
      "reshp\n",
      "rhvqn\n",
      "rjqjr\n",
      "rnqwd\n",
      "rpnzm\n",
      "rvsfo\n",
      "rwwuw\n",
      "rzgzv\n",
      "sgmoj\n",
      "sitdc\n",
      "sosdj\n",
      "subdi\n",
      "sxojq\n",
      "taivr\n",
      "tpdvr\n",
      "tyapv\n",
      "uaodv\n",
      "ujtgh\n",
      "uuyrs\n",
      "uvvuz\n",
      "vkntp\n",
      "vydse\n",
      "vynzv\n",
      "wfnda\n",
      "wtgrc\n",
      "wthmo\n",
      "wvwva\n",
      "xjrqt\n",
      "xpmcm\n",
      "xriod\n",
      "xroxl\n",
      "xrvnu\n",
      "xsbzr\n",
      "yujjk\n",
      "ywjka\n",
      "ywjxy\n",
      "ywucw\n",
      "zfukg\n",
      "zljoz\n",
      "zyczx\n"
     ]
    }
   ],
   "source": [
    "import zipfile\n",
    "import os\n",
    "\n",
    "with zipfile.ZipFile(\"main.zip\", 'r') as zip_ref:\n",
    "    zip_ref.extractall(\"main_file\")\n",
    "\n",
    "files_with_py = []\n",
    "for current_dir, dirs, files in os.walk(\"main_file\"):\n",
    "    for fl in files:\n",
    "        if (fl[-3:] == \".py\"):\n",
    "            files_with_py.append(str(current_dir))\n",
    "files_with_py = set(files_with_py)\n",
    "end = []\n",
    "for path in files_with_py:\n",
    "    end.append(path.split(\"\\\\\")[-1])\n",
    "end.sort()\n",
    "with open(\"task3\", \"w\") as file:\n",
    "    write_array(end, file)\n",
    "with open(\"task3\", \"r\") as file:\n",
    "    for line in file:\n",
    "        print(line.strip())"
   ]
  },
  {
   "cell_type": "markdown",
   "metadata": {},
   "source": [
    "**4.** Загрузить `1.json` из папки *w3/* и открыть его в питоне. Добавить внутрь **\"GlossEntry\"** свойство {\"week\": 3} и сохранить результат в файл `1.json` двумя способами:\n",
    "\n",
    "- через `json.dumps()`\n",
    "\n",
    "- через `json.dump()`"
   ]
  },
  {
   "cell_type": "code",
   "execution_count": 2,
   "metadata": {},
   "outputs": [
    {
     "name": "stdout",
     "output_type": "stream",
     "text": [
      "{\n",
      "    \"glossary\": {\n",
      "        \"GlossDiv\": {\n",
      "            \"GlossList\": {\n",
      "                \"GlossEntry\": {\n",
      "                    \"Abbrev\": \"ISO 8879:1986\",\n",
      "                    \"Acronym\": \"SGML\",\n",
      "                    \"GlossDef\": {\n",
      "                        \"GlossSeeAlso\": [\n",
      "                            \"GML\",\n",
      "                            \"XML\"\n",
      "                        ],\n",
      "                        \"para\": \"A meta-markup language, used to create markup languages such as DocBook.\"\n",
      "                    },\n",
      "                    \"GlossSee\": \"markup\",\n",
      "                    \"GlossTerm\": \"Standard Generalized Markup Language\",\n",
      "                    \"ID\": \"SGML\",\n",
      "                    \"IsReal\": true,\n",
      "                    \"SortAs\": \"SGML\"\n",
      "                }\n",
      "            },\n",
      "            \"title\": null\n",
      "        },\n",
      "        \"title\": \"example glossary\"\n",
      "    }\n",
      "}\n",
      "{\n",
      "    \"glossary\": {\n",
      "        \"GlossDiv\": {\n",
      "            \"GlossList\": {\n",
      "                \"GlossEntry\": {\n",
      "                    \"Abbrev\": \"ISO 8879:1986\",\n",
      "                    \"Acronym\": \"SGML\",\n",
      "                    \"GlossDef\": {\n",
      "                        \"GlossSeeAlso\": [\n",
      "                            \"GML\",\n",
      "                            \"XML\"\n",
      "                        ],\n",
      "                        \"para\": \"A meta-markup language, used to create markup languages such as DocBook.\"\n",
      "                    },\n",
      "                    \"GlossSee\": \"markup\",\n",
      "                    \"GlossTerm\": \"Standard Generalized Markup Language\",\n",
      "                    \"ID\": \"SGML\",\n",
      "                    \"IsReal\": true,\n",
      "                    \"SortAs\": \"SGML\",\n",
      "                    \"week\": 3\n",
      "                }\n",
      "            },\n",
      "            \"title\": null\n",
      "        },\n",
      "        \"title\": \"example glossary\"\n",
      "    }\n",
      "}\n"
     ]
    }
   ],
   "source": [
    "import json\n",
    "with open(\"1.json\", \"r\") as file:\n",
    "    data = json.load(file)\n",
    "    print(json.dumps(data, indent=4, sort_keys=True))\n",
    "    to_add = {\"week\": 3}\n",
    "    temp = data[\"glossary\"][\"GlossDiv\"][\"GlossList\"][\"GlossEntry\"]\n",
    "    temp[\"week\"] = 3\n",
    "with open(\"1.json\", \"w\") as file:\n",
    "    file.write(json.dumps(data, indent=4))\n",
    "with open(\"1.json\", \"r\") as file:\n",
    "    data1 = json.load(file)\n",
    "    print(json.dumps(data1, indent=4, sort_keys=True))"
   ]
  },
  {
   "cell_type": "code",
   "execution_count": 3,
   "metadata": {},
   "outputs": [
    {
     "name": "stdout",
     "output_type": "stream",
     "text": [
      "{\n",
      "    \"glossary\": {\n",
      "        \"GlossDiv\": {\n",
      "            \"GlossList\": {\n",
      "                \"GlossEntry\": {\n",
      "                    \"Abbrev\": \"ISO 8879:1986\",\n",
      "                    \"Acronym\": \"SGML\",\n",
      "                    \"GlossDef\": {\n",
      "                        \"GlossSeeAlso\": [\n",
      "                            \"GML\",\n",
      "                            \"XML\"\n",
      "                        ],\n",
      "                        \"para\": \"A meta-markup language, used to create markup languages such as DocBook.\"\n",
      "                    },\n",
      "                    \"GlossSee\": \"markup\",\n",
      "                    \"GlossTerm\": \"Standard Generalized Markup Language\",\n",
      "                    \"ID\": \"SGML\",\n",
      "                    \"IsReal\": true,\n",
      "                    \"SortAs\": \"SGML\",\n",
      "                    \"week\": 3\n",
      "                }\n",
      "            },\n",
      "            \"title\": null\n",
      "        },\n",
      "        \"title\": \"example glossary\"\n",
      "    }\n",
      "}\n",
      "{\n",
      "    \"glossary\": {\n",
      "        \"GlossDiv\": {\n",
      "            \"GlossList\": {\n",
      "                \"GlossEntry\": {\n",
      "                    \"Abbrev\": \"ISO 8879:1986\",\n",
      "                    \"Acronym\": \"SGML\",\n",
      "                    \"GlossDef\": {\n",
      "                        \"GlossSeeAlso\": [\n",
      "                            \"GML\",\n",
      "                            \"XML\"\n",
      "                        ],\n",
      "                        \"para\": \"A meta-markup language, used to create markup languages such as DocBook.\"\n",
      "                    },\n",
      "                    \"GlossSee\": \"markup\",\n",
      "                    \"GlossTerm\": \"Standard Generalized Markup Language\",\n",
      "                    \"ID\": \"SGML\",\n",
      "                    \"IsReal\": true,\n",
      "                    \"SortAs\": \"SGML\",\n",
      "                    \"week\": 3\n",
      "                }\n",
      "            },\n",
      "            \"title\": null\n",
      "        },\n",
      "        \"title\": \"example glossary\"\n",
      "    }\n",
      "}\n"
     ]
    }
   ],
   "source": [
    "import json\n",
    "with open(\"1.json\", \"r\") as file:\n",
    "    data = json.load(file)\n",
    "    print(json.dumps(data, indent=4, sort_keys=True))\n",
    "    to_add = {\"week\": 3}\n",
    "    temp = data[\"glossary\"][\"GlossDiv\"][\"GlossList\"][\"GlossEntry\"]\n",
    "    temp[\"week\"] = 3\n",
    "with open(\"1.json\", \"w\") as file:\n",
    "    json.dump(data, file, indent=4)\n",
    "with open(\"1.json\", \"r\") as file:\n",
    "    data1 = json.load(file)\n",
    "    print(json.dumps(data1, indent=4, sort_keys=True))"
   ]
  },
  {
   "cell_type": "markdown",
   "metadata": {},
   "source": [
    "**5.** Посмотреть на *1.json* **не** в питоне. Увидеть, что все данные немного отличаются от питоновских (булевы переменные стали с маленькой буквы, *None* превратился в *null*). Это связано с тем, что *JSON изначально создавался для JavaScript и поэтому имеет такие же названия.*"
   ]
  },
  {
   "cell_type": "code",
   "execution_count": null,
   "metadata": {},
   "outputs": [],
   "source": []
  },
  {
   "cell_type": "markdown",
   "metadata": {},
   "source": [
    "**6.** Загрузить *table.csv* из папки *w3/* и открыть его в питоне. Считать содержимое в массив. \n",
    "Добавить в массив строку из повторяющихся чисел -200 в середину файла и сохранить массив в CSV-файл с именем **middle_row.csv**."
   ]
  },
  {
   "cell_type": "code",
   "execution_count": 4,
   "metadata": {},
   "outputs": [
    {
     "name": "stdout",
     "output_type": "stream",
     "text": [
      "['Username; Identifier;First name;Last name']\n",
      "['booker12;9012;Rachel;Booker']\n",
      "['grey07;2070;Laura;Grey']\n",
      "['johnson81;4081;Craig;Johnson']\n",
      "['jenkins46;9346;Mary;Jenkins']\n",
      "['smith79;5079;Jamie;Smith']\n",
      "[]\n"
     ]
    }
   ],
   "source": [
    "import csv\n",
    "import numpy\n",
    "\n",
    "with open(\"table.csv\", \"r\") as file:\n",
    "    reader = csv.reader(file) \n",
    "    for row in reader:\n",
    "        print(row)      "
   ]
  },
  {
   "cell_type": "markdown",
   "metadata": {},
   "source": [
    "**7.** Загрузить *table.csv* из папки *w3/* и открыть его в питоне. Считать содержимое в массив. Добавить колонку **(!)** с именем *my_col* и значениями на каждом ряду True. Сохранить полученный массив в CSV-файл с именем **new_col.csv**."
   ]
  },
  {
   "cell_type": "code",
   "execution_count": null,
   "metadata": {},
   "outputs": [],
   "source": []
  },
  {
   "cell_type": "markdown",
   "metadata": {},
   "source": [
    "**8.** Создать код, который выбрасывает **ZeroDivisionError**. Обернуть его в *try/except* и вывести \"Делим на ноль\" в случае деления на ноль."
   ]
  },
  {
   "cell_type": "code",
   "execution_count": 5,
   "metadata": {},
   "outputs": [
    {
     "name": "stdout",
     "output_type": "stream",
     "text": [
      "Делим на ноль\n"
     ]
    }
   ],
   "source": [
    "try:\n",
    "    k = 1 / 0\n",
    "except ZeroDivisionError:\n",
    "    print(\"Делим на ноль\")"
   ]
  },
  {
   "cell_type": "markdown",
   "metadata": {},
   "source": [
    "**9.** Создать код, который может выбросить **ValueError** (это может быть попытка привести к int \"плохую\" строку). Окружить код try/except и добавить finally блок, где вывести \"Дошел до finally\". \n",
    "\n",
    "Попробовать запустить программу нормально (без выбрасывания исключения) и с исключением. В обоих случаях должен выполняться код из finally."
   ]
  },
  {
   "cell_type": "code",
   "execution_count": 6,
   "metadata": {},
   "outputs": [
    {
     "name": "stdout",
     "output_type": "stream",
     "text": [
      "impossible\n",
      "Дошел до finally\n"
     ]
    }
   ],
   "source": [
    "try:\n",
    "    int(\"A\")\n",
    "except ValueError:\n",
    "    print(\"impossible\")\n",
    "finally:\n",
    "    print(\"Дошел до finally\")"
   ]
  },
  {
   "cell_type": "code",
   "execution_count": 7,
   "metadata": {},
   "outputs": [
    {
     "name": "stdout",
     "output_type": "stream",
     "text": [
      "Дошел до finally\n"
     ]
    }
   ],
   "source": [
    "try:\n",
    "    int(\"8\")\n",
    "except ValueError:\n",
    "    print(\"impossible\")\n",
    "finally:\n",
    "    print(\"Дошел до finally\")"
   ]
  },
  {
   "cell_type": "markdown",
   "metadata": {},
   "source": [
    "**10.** Создать свое исключение (название любое). Написать код, который выбрасывает его с неким сообщением. **Не перехватывайте** это исключение в коде - цель задания заключается в том, чтобы увидеть, как он отображается в консоли."
   ]
  },
  {
   "cell_type": "code",
   "execution_count": 8,
   "metadata": {},
   "outputs": [
    {
     "name": "stdout",
     "output_type": "stream",
     "text": [
      "Input positive integer: -3\n",
      "You give negative!\n"
     ]
    }
   ],
   "source": [
    "class MyError(Exception):\n",
    "    def __init__(self, text):\n",
    "        self.txt = text\n",
    " \n",
    " \n",
    "a = input(\"Input positive integer: \")\n",
    " \n",
    "try:\n",
    "    a = int(a)\n",
    "    if a < 0:\n",
    "        raise MyError(\"You give negative!\")\n",
    "except ValueError:\n",
    "    print(\"Error type of value!\")\n",
    "except MyError as mr:\n",
    "    print(mr)\n",
    "else:\n",
    "    print(a)"
   ]
  },
  {
   "cell_type": "markdown",
   "metadata": {},
   "source": [
    "**11.** Написать код, который вызывает функции в порядке \n",
    "\n",
    "a() -> b() -> c(), \n",
    "\n",
    "а в функцию **c** заложите *raise ValueError('my exception')* (функции a, b, c надо самому объявить). \n",
    "\n",
    "Посмотрите на стек-трейс - видно ли, где из трех функций появилась ошибка? Сделайте скриншот, залейте в репозиторий и будьте готовы ответить на вопросы по чтению stack trace."
   ]
  },
  {
   "cell_type": "code",
   "execution_count": null,
   "metadata": {},
   "outputs": [],
   "source": []
  }
 ],
 "metadata": {
  "kernelspec": {
   "display_name": "Python 3",
   "language": "python",
   "name": "python3"
  },
  "language_info": {
   "codemirror_mode": {
    "name": "ipython",
    "version": 3
   },
   "file_extension": ".py",
   "mimetype": "text/x-python",
   "name": "python",
   "nbconvert_exporter": "python",
   "pygments_lexer": "ipython3",
   "version": "3.8.3"
  }
 },
 "nbformat": 4,
 "nbformat_minor": 4
}
