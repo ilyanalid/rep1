{
 "cells": [
  {
   "cell_type": "markdown",
   "metadata": {},
   "source": [
    "## Генераторы и цикл for"
   ]
  },
  {
   "cell_type": "markdown",
   "metadata": {},
   "source": [
    "**1.** (2) Вам дана функция на языке python:\n",
    "\n",
    "```python\n",
    "def print_map(function, iterable):\n",
    "    for i in iterable:\n",
    "        print(function(i))\n",
    "```\n",
    "Требуется переписать данную функцию не используя цикл for."
   ]
  },
  {
   "cell_type": "code",
   "execution_count": 5,
   "metadata": {},
   "outputs": [],
   "source": [
    "def print_map(function, iterable):\n",
    "    print(*(map(function, iterable)), sep='\\n')"
   ]
  },
  {
   "cell_type": "markdown",
   "metadata": {},
   "source": [
    "**2.** (3) Напишите генератор, выводящий первые n чисел Фибоначчи. (1) Напишите несколько тестов на генератор."
   ]
  },
  {
   "cell_type": "code",
   "execution_count": 36,
   "metadata": {},
   "outputs": [
    {
     "name": "stdout",
     "output_type": "stream",
     "text": [
      "[0, 1, 1, 2]\n",
      "[0, 1, 1, 2, 3, 5, 8]\n",
      "[0, 1, 1, 2, 3, 5, 8, 13, 21]\n",
      "[0, 1, 1, 2, 3, 5, 8, 13, 21, 34]\n"
     ]
    }
   ],
   "source": [
    "def fibonacci():\n",
    "    f1, f2 = 0, 1\n",
    "    while True:\n",
    "        yield f1\n",
    "        f1, f2 = f2, f1 + f2\n",
    "\n",
    "\n",
    "def fib(n):\n",
    "    func = fibgen()\n",
    "    end = []\n",
    "    for _ in range(n):\n",
    "        end.append(next(func))\n",
    "    return end\n",
    "\n",
    "\n",
    "print(fib(4))\n",
    "print(fib(7))\n",
    "print(fib(9))\n",
    "print(fib(10))"
   ]
  },
  {
   "cell_type": "markdown",
   "metadata": {},
   "source": [
    "**3.** (3) Реализуйте аналог функций zip, map, enumerate. (1) Напишите несколько тестов на нескольких данных."
   ]
  },
  {
   "cell_type": "code",
   "execution_count": 62,
   "metadata": {
    "scrolled": true
   },
   "outputs": [
    {
     "name": "stdout",
     "output_type": "stream",
     "text": [
      "[('a', 1), ('b', 2), ('c', 3)]\n",
      "[('a', 1), ('b', 2), ('c', 3)]\n"
     ]
    }
   ],
   "source": [
    "def zip1(*iterables):\n",
    "    sent = object()\n",
    "    iterators = [iter(it) for it in iterables]\n",
    "    while iterators:\n",
    "        res = []\n",
    "        for it in iterators:\n",
    "            elem = next(it, sent)\n",
    "            if elem is sent:\n",
    "                return\n",
    "            res.append(elem)\n",
    "        yield tuple(res)\n",
    "        \n",
    "        \n",
    "a = ['a', 'b', 'c']\n",
    "b = [1, 2, 3]    \n",
    "print(list(zip1(a,b)))\n",
    "print(list(zip(a,b)))"
   ]
  },
  {
   "cell_type": "code",
   "execution_count": 69,
   "metadata": {},
   "outputs": [
    {
     "name": "stdout",
     "output_type": "stream",
     "text": [
      "[1, 2, 3, 4, 5]\n",
      "[1, 2, 3, 4, 5]\n"
     ]
    }
   ],
   "source": [
    "def map1(func, iterable):\n",
    "    for i in iterable:\n",
    "        yield func(i)\n",
    "        \n",
    "        \n",
    "func = int\n",
    "it = ['1', '2', '3', '4', '5']\n",
    "print(list(map1(func,it)))\n",
    "print(list(map(func,it)))\n"
   ]
  },
  {
   "cell_type": "code",
   "execution_count": 63,
   "metadata": {},
   "outputs": [
    {
     "name": "stdout",
     "output_type": "stream",
     "text": [
      "[(0, 'str1'), (1, 'str2'), (2, 'str3')]\n",
      "[(0, 'str1'), (1, 'str2'), (2, 'str3')]\n"
     ]
    }
   ],
   "source": [
    "def enumerate1(sequence, start=0):\n",
    "    n = start\n",
    "    for elem in sequence:\n",
    "        yield n, elem\n",
    "        n += 1\n",
    "'''\n",
    "for position, string in enumerate(list1):\n",
    "    print(position, string)'''   \n",
    "\n",
    "list1 = ['str1', 'str2', 'str3']\n",
    "print(list(enumerate1(list1)))\n",
    "print(list(enumerate(list1)))"
   ]
  },
  {
   "cell_type": "markdown",
   "metadata": {},
   "source": [
    "**4.**(3) Написать функцию, принимающую 2 списка и возвращающую декартово произведение (использовать `itertools.product`)\n",
    "```python\n",
    "def get_cartesian_product(a, b):\n",
    "    raise RuntimeError(\"Not implemented\")\n",
    "\n",
    "assert get_cartesian_product([1, 2], [3, 4]) == [(1, 3), (1, 4), (2, 3), (2, 4)]\n",
    "```\n",
    "(1) Напишите несколько тестов на нескольких данных."
   ]
  },
  {
   "cell_type": "code",
   "execution_count": 75,
   "metadata": {},
   "outputs": [
    {
     "name": "stdout",
     "output_type": "stream",
     "text": [
      "[(1, 1), (1, 1), (2, 1), (2, 1)]\n"
     ]
    }
   ],
   "source": [
    "import itertools\n",
    "\n",
    "\n",
    "def get_cartesian_product(a, b):\n",
    "    return list(itertools.product(a, b))\n",
    "a=[1, 2]\n",
    "b=[1, 1]\n",
    "print(get_cartesian_product(a, b))"
   ]
  },
  {
   "cell_type": "markdown",
   "metadata": {},
   "source": [
    "**5.** (3) Написать функцию, принимающую строку `s` и число `n` и возвращающую всевозможные перестановки из `n` символов в `s` строке в **лексикографическом** порядке (использовать `itertools.permutations`)\n",
    "```python\n",
    "def get_permutations(s, n):\n",
    "    raise RuntimeError(\"Not implemented\")\n",
    "\n",
    "assert get_permutations(\"cat\", 2) == [\"ac\", \"at\", \"ca\", \"ct\", \"ta\", \"tc\"]\n",
    "```\n",
    "(1) Напишите несколько тестов на нескольких данных."
   ]
  },
  {
   "cell_type": "code",
   "execution_count": 81,
   "metadata": {},
   "outputs": [
    {
     "name": "stdout",
     "output_type": "stream",
     "text": [
      "['inp', 'inr', 'int', 'ipn', 'ipr', 'ipt', 'irn', 'irp', 'irt', 'itn', 'itp', 'itr', 'nip', 'nir', 'nit', 'npi', 'npr', 'npt', 'nri', 'nrp', 'nrt', 'nti', 'ntp', 'ntr', 'pin', 'pir', 'pit', 'pni', 'pnr', 'pnt', 'pri', 'prn', 'prt', 'pti', 'ptn', 'ptr', 'rin', 'rip', 'rit', 'rni', 'rnp', 'rnt', 'rpi', 'rpn', 'rpt', 'rti', 'rtn', 'rtp', 'tin', 'tip', 'tir', 'tni', 'tnp', 'tnr', 'tpi', 'tpn', 'tpr', 'tri', 'trn', 'trp']\n",
      "['ac', 'at', 'ca', 'ct', 'ta', 'tc']\n"
     ]
    }
   ],
   "source": [
    "import itertools\n",
    "\n",
    "def get_permutations(s, n):\n",
    "    return sorted([''.join(x) for x in itertools.permutations(s, n)])\n",
    "\n",
    "print(get_permutations('print', 3))\n",
    "print(get_permutations('cat', 2))"
   ]
  },
  {
   "cell_type": "markdown",
   "metadata": {},
   "source": [
    "**6.** (3) Реализовать функцию `get_combinations`. Должна принимать строку `s` и число `k` и возвращать все возможные комбинации из символов в строке `s` с длинами <= `k` (использовать `itertools.combinations`)\n",
    "```python\n",
    "def get_combinations(s, n):\n",
    "    raise RuntimeError(\"Not implemented\")\n",
    "\n",
    "assert get_combinations(\"cat\", 2) == [\"a\", \"c\", \"t\", \"ac\", \"at\", \"ct\"]\n",
    "```\n",
    "(1) Напишите несколько тестов на нескольких данных."
   ]
  },
  {
   "cell_type": "code",
   "execution_count": 91,
   "metadata": {},
   "outputs": [
    {
     "name": "stdout",
     "output_type": "stream",
     "text": [
      "['a', 'c', 't', 'ac', 'at', 'ct']\n"
     ]
    }
   ],
   "source": [
    "import itertools\n",
    "\n",
    "def get_combinations(s, n):\n",
    "    a = sorted([''.join(sorted(x)) for i in range(1, n+1) for x in itertools.combinations(s, i)])\n",
    "    a.sort(key=lambda x: len(x))\n",
    "    return a\n",
    "\n",
    "print(get_combinations(\"cat\", 2))"
   ]
  },
  {
   "cell_type": "markdown",
   "metadata": {},
   "source": [
    "**7.** (3) Функция должна принимать строку `s` и число `k` и возвращать все возможные комбинации из символов в строке `s` с длинами, равными `k`, с повторениями (использовать `itertools.combinations_with_replacement`)\n",
    "```python\n",
    "def get_combinations_with_r(s, n):\n",
    "    raise RuntimeError(\"Not implemented\")\n",
    "\n",
    "assert get_combinations_with_r(\"cat\", 2) == [\"aa\", \"ac\", \"at\", \"cc\", \"ct\", \"tt\"]\n",
    "```\n",
    "(1) Напишите несколько тестов на нескольких данных.\n",
    "\n"
   ]
  },
  {
   "cell_type": "code",
   "execution_count": 86,
   "metadata": {},
   "outputs": [
    {
     "name": "stdout",
     "output_type": "stream",
     "text": [
      "['aa', 'ac', 'at', 'cc', 'ct', 'tt']\n"
     ]
    }
   ],
   "source": [
    "import itertools\n",
    "\n",
    "def get_combinations_with_r(s, n):\n",
    "    return sorted([''.join(sorted(x)) for x in itertools.combinations_with_replacement(s, n)])\n",
    "\n",
    "print(get_combinations_with_r(\"cat\", 2))"
   ]
  },
  {
   "cell_type": "markdown",
   "metadata": {},
   "source": [
    "**8.** (3) Написать функцию, которая подсчитывает количество подряд идующих символов в строке (использовать `itertools.groupby`)\n",
    "```python\n",
    "def compress_string(s):\n",
    "    raise RuntimeError(\"Not implemented\")\n",
    "\n",
    "assert compress_string('1222311') == [(1, 1), (3, 2), (1, 3), (2, 1)]\n",
    "```\n",
    "(1) Напишите несколько тестов на нескольких данных."
   ]
  },
  {
   "cell_type": "code",
   "execution_count": 97,
   "metadata": {},
   "outputs": [
    {
     "name": "stdout",
     "output_type": "stream",
     "text": [
      "[(1, 1), (3, 2), (1, 3), (2, 1)]\n",
      "[(1, 1), (1, 2), (1, 3), (1, 4), (1, 5), (1, 6), (1, 7), (1, 8), (1, 9), (1, 0)]\n",
      "[(1, 1), (1, 2), (1, 3), (1, 1), (1, 2), (1, 3), (1, 1), (1, 2), (1, 3), (1, 1), (1, 2), (1, 3), (1, 1), (1, 2), (1, 3), (1, 1), (1, 2), (1, 3)]\n"
     ]
    }
   ],
   "source": [
    "import itertools\n",
    "\n",
    "def compress_string(s):\n",
    "    groups = []\n",
    "    uniquekeys = []\n",
    "    for k, g in itertools.groupby(s):\n",
    "        groups.append(len(list(g)))\n",
    "        uniquekeys.append(int(k))\n",
    "    return list(zip(groups, uniquekeys))\n",
    "\n",
    "print(compress_string('1222311'))\n",
    "print(compress_string('1234567890'))\n",
    "print(compress_string('123123123123123123'))\n"
   ]
  },
  {
   "cell_type": "markdown",
   "metadata": {},
   "source": [
    "**9.** (4) В функцию передается список списков. Нужно вернуть максимум, который достигает выражение `a_1^2 + a_2^2 + ... + a_n^2) % m`. Где `a_i` - максимальный элемент из i-ого списка (использовать функцию из `itertools`)\n",
    "```python\n",
    "def maximize(lists, m):\n",
    "    raise RuntimeError(\"Not implemented\")\n",
    "\n",
    "lists = [\n",
    "    [5, 4],\n",
    "    [7, 8, 9],\n",
    "    [5, 7, 8, 9, 10]\n",
    "]\n",
    "assert maximize(lists, m=1000) == 206\n",
    "```\n",
    "В примере = 206, так как это максимум от суммы `(a_21 + a_22 + a_23) % 1000`.\n",
    "\n",
    "(2) Напишите несколько тестов на нескольких данных."
   ]
  },
  {
   "cell_type": "code",
   "execution_count": 127,
   "metadata": {},
   "outputs": [
    {
     "data": {
      "text/plain": [
       "206"
      ]
     },
     "execution_count": 127,
     "metadata": {},
     "output_type": "execute_result"
    }
   ],
   "source": [
    "import itertools\n",
    "from operator import itemgetter\n",
    "\n",
    "def maximize(lists, m):\n",
    "    squared_maxes = [max(lst)**2 for lst in lists]\n",
    "    polynomials = [p for p in itertools.accumulate(squared_maxes)]\n",
    "    return max([x % m for x in polynomials])\n",
    "               \n",
    "lists = [\n",
    "    [5, 4],\n",
    "    [7, 8, 9],\n",
    "    [5, 7, 8, 9, 10]\n",
    "]\n",
    "\n",
    "maximize(lists, m=1000)     "
   ]
  },
  {
   "cell_type": "code",
   "execution_count": 125,
   "metadata": {},
   "outputs": [
    {
     "name": "stdout",
     "output_type": "stream",
     "text": [
      "============================= test session starts =============================\n",
      "platform win32 -- Python 3.8.3, pytest-5.4.3, py-1.9.0, pluggy-0.13.1\n",
      "rootdir: C:\\Users\\lidzh\\py\\rep1\\w8\n",
      "collected 24 items\n",
      "\n",
      "tests\\test_2.py .                                                        [  4%]\n",
      "tests\\test_3.py .......                                                  [ 33%]\n",
      "tests\\test_4.py ...                                                      [ 45%]\n",
      "tests\\test_5.py ...                                                      [ 58%]\n",
      "tests\\test_6.py ...                                                      [ 70%]\n",
      "tests\\test_7.py ...                                                      [ 83%]\n",
      "tests\\test_8.py .                                                        [ 87%]\n",
      "tests\\test_9.py ...                                                      [100%]\n",
      "\n",
      "============================= 24 passed in 0.23s ==============================\n"
     ]
    }
   ],
   "source": [
    "!pytest"
   ]
  }
 ],
 "metadata": {
  "kernelspec": {
   "display_name": "Python 3",
   "language": "python",
   "name": "python3"
  },
  "language_info": {
   "codemirror_mode": {
    "name": "ipython",
    "version": 3
   },
   "file_extension": ".py",
   "mimetype": "text/x-python",
   "name": "python",
   "nbconvert_exporter": "python",
   "pygments_lexer": "ipython3",
   "version": "3.8.3"
  }
 },
 "nbformat": 4,
 "nbformat_minor": 4
}
